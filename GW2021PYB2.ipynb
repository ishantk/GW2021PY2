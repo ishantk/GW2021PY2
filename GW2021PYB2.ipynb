{
  "nbformat": 4,
  "nbformat_minor": 0,
  "metadata": {
    "accelerator": "GPU",
    "colab": {
      "name": "GW2021PYB2.ipynb",
      "provenance": [],
      "collapsed_sections": [],
      "toc_visible": true,
      "include_colab_link": true
    },
    "kernelspec": {
      "display_name": "Python 3",
      "name": "python3"
    },
    "language_info": {
      "name": "python"
    }
  },
  "cells": [
    {
      "cell_type": "markdown",
      "metadata": {
        "id": "view-in-github",
        "colab_type": "text"
      },
      "source": [
        "<a href=\"https://colab.research.google.com/github/ishantk/GW2021PY2/blob/master/GW2021PYB2.ipynb\" target=\"_parent\"><img src=\"https://colab.research.google.com/assets/colab-badge.svg\" alt=\"Open In Colab\"/></a>"
      ]
    },
    {
      "cell_type": "markdown",
      "metadata": {
        "id": "--n07CzcdAxc"
      },
      "source": [
        "# Session1\n",
        "\n",
        "Introduction to Variables in Python\n",
        "\n",
        "Data Storage Containers"
      ]
    },
    {
      "cell_type": "code",
      "metadata": {
        "colab": {
          "base_uri": "https://localhost:8080/"
        },
        "id": "1zeLGqM9YXt4",
        "outputId": "439b943b-b1c4-4500-895d-f03426bcc43e"
      },
      "source": [
        "  # Write Operation\n",
        "video1_likes = 2112000\n",
        "video2_likes = 135000\n",
        "\n",
        "# Read Operation\n",
        "print(\"video1 likes is:\", video1_likes, \":)\")\n",
        "print(\"video2 likes is:\", video2_likes)"
      ],
      "execution_count": null,
      "outputs": [
        {
          "name": "stdout",
          "output_type": "stream",
          "text": [
            "video1 likes is: 2112000 :)\n",
            "video2 likes is: 135000\n"
          ]
        }
      ]
    },
    {
      "cell_type": "code",
      "metadata": {
        "colab": {
          "base_uri": "https://localhost:8080/"
        },
        "id": "D8tlqT96Zqis",
        "outputId": "ca0d2fd0-01fd-443d-e2ca-cd49e9861df3"
      },
      "source": [
        "video1_comments = 300\n",
        "video2_comments = 500\n",
        " \n",
        "video1_views = 8765141\n",
        "video2_views = 15672775\n",
        " \n",
        "print(\"video1 comments is:\", video1_comments, \":)\")\n",
        "print(\"video2 comments is:\", video2_comments)\n",
        " \n",
        "print(\"video1 views is:\", video1_views, \":)\")\n",
        "print(\"video2 views is:\", video2_views)"
      ],
      "execution_count": null,
      "outputs": [
        {
          "name": "stdout",
          "output_type": "stream",
          "text": [
            "video1 comments is: 300 :)\n",
            "video2 comments is: 500\n",
            "video1 views is: 8765141 :)\n",
            "video2 views is: 15672775\n"
          ]
        }
      ]
    },
    {
      "cell_type": "code",
      "metadata": {
        "colab": {
          "base_uri": "https://localhost:8080/"
        },
        "id": "5twPFc6LaIwR",
        "outputId": "f0c3fbd3-28fa-41eb-99a9-cd2d65a5ef34"
      },
      "source": [
        "if video1_views > video2_views:\n",
        "  print(\"Lets Watch Video1\")\n",
        "else:  \n",
        "  print(\"Lets Watch Video2\")"
      ],
      "execution_count": null,
      "outputs": [
        {
          "name": "stdout",
          "output_type": "stream",
          "text": [
            "Lets Watch Video2\n"
          ]
        }
      ]
    },
    {
      "cell_type": "code",
      "metadata": {
        "colab": {
          "base_uri": "https://localhost:8080/"
        },
        "id": "t-vo_HmgbHDh",
        "outputId": "f0575bcd-ba05-4f33-c3c7-eacad3321ff9"
      },
      "source": [
        "criteria1 = 0.50*video1_views + 0.30*video1_likes + 0.20*video1_comments\n",
        "criteria2 = 0.50*video2_views + 0.30*video2_likes + 0.20*video2_comments\n",
        "\n",
        "print(\"criteria1:\", criteria1)\n",
        "print(\"criteria2:\", criteria2)"
      ],
      "execution_count": null,
      "outputs": [
        {
          "name": "stdout",
          "output_type": "stream",
          "text": [
            "criteria1: 5016230.5\n",
            "criteria2: 7876987.5\n"
          ]
        }
      ]
    },
    {
      "cell_type": "code",
      "metadata": {
        "colab": {
          "base_uri": "https://localhost:8080/"
        },
        "id": "G25SAdl0b01b",
        "outputId": "5b33f1dc-8df3-4cde-b31a-093a58fce33a"
      },
      "source": [
        "if criteria1 > criteria2:\n",
        "  print(\"Based on Criteria: Lets Watch Video 1\")\n",
        "else:\n",
        "  print(\"Based on Criteria: Lets Watch Video 2\")"
      ],
      "execution_count": null,
      "outputs": [
        {
          "name": "stdout",
          "output_type": "stream",
          "text": [
            "Based on Criteria: Lets Watch Video 2\n"
          ]
        }
      ]
    },
    {
      "cell_type": "markdown",
      "metadata": {
        "id": "qYPzT9qcBh-i"
      },
      "source": [
        "# Session2"
      ]
    },
    {
      "cell_type": "code",
      "metadata": {
        "colab": {
          "base_uri": "https://localhost:8080/"
        },
        "id": "wagveENQBlVT",
        "outputId": "aa6fdf4e-f588-4e2d-e555-d69c2a748eae"
      },
      "source": [
        "# Create Containers in Memory\n",
        "\n",
        "# Single Value Containers\n",
        "# int i.e. integer\n",
        "age = 10\n",
        "# float i.e. decimal values\n",
        "discount = 0.50\n",
        "# str i.e. string which means text\n",
        "name = 'john watson'\n",
        "\n",
        "sias_age = 10\n",
        "\n",
        "print(age, type(age), id(age), hex(id(age)))\n",
        "print(sias_age, type(sias_age), id(sias_age), hex(id(sias_age)))\n",
        "print(discount, type(discount))\n",
        "print(name, type(name))\n",
        "\"\"\"This is a comment\"\"\"\n",
        "instagram_id = \"\"\"auribises\"\"\"\n",
        "print(instagram_id, type(instagram_id))\n",
        "\n",
        "# In Python -> age, discount, name and sias_age are known as Reference Variables"
      ],
      "execution_count": null,
      "outputs": [
        {
          "name": "stdout",
          "output_type": "stream",
          "text": [
            "10 <class 'int'> 94461877324576 0x7f9b75fcf830\n",
            "10 <class 'int'> 94461877324576 0x55e99ea48b20\n",
            "0.5 <class 'float'>\n",
            "john watson <class 'str'>\n",
            "auribises <class 'str'>\n"
          ]
        }
      ]
    },
    {
      "cell_type": "code",
      "metadata": {
        "colab": {
          "base_uri": "https://localhost:8080/"
        },
        "id": "zJpnTBVKDM36",
        "outputId": "e2822fd0-bdbe-478c-df65-7154492f21ac"
      },
      "source": [
        "# Multi Value Container\n",
        "marks = (95, 75, 80, 82, 77)\n",
        "print(marks, type(marks), id(marks))\n",
        "print(marks[0])\n",
        "print(marks[4])\n",
        "# marks[0] = 88 # error\n",
        "\n",
        "marks = [95, 75, 80, 82, 77]\n",
        "print(marks, type(marks), id(marks))\n",
        "marks[1] = 85\n",
        "print(marks, type(marks), id(marks))\n",
        "\n",
        "\n",
        "# maharashtra_cases = [6396805, 62452, 6195744]\n",
        "maharashtra_cases = {\n",
        "  \"confirmed\":  6396805,\n",
        "  \"active\": 62452,\n",
        "  \"recovered\": 6195744,\n",
        "}\n",
        "print(maharashtra_cases, type(maharashtra_cases))\n",
        "\n",
        "john_instagram_followers = {\"jennie\", \"jim\", \"mike\", \"lee\", \"dave\", \"mike\"}\n",
        "print(john_instagram_followers, type(john_instagram_followers))\n",
        "john_instagram_followers.add(\"jennie\")\n",
        "print(john_instagram_followers, type(john_instagram_followers))\n"
      ],
      "execution_count": null,
      "outputs": [
        {
          "name": "stdout",
          "output_type": "stream",
          "text": [
            "(95, 75, 80, 82, 77) <class 'tuple'> 140151988947280\n",
            "95\n",
            "77\n",
            "[95, 75, 80, 82, 77] <class 'list'> 140151989018128\n",
            "[95, 85, 80, 82, 77] <class 'list'> 140151989018128\n",
            "{'confirmed': 6396805, 'active': 62452, 'recovered': 6195744} <class 'dict'>\n",
            "{'mike', 'jim', 'lee', 'dave', 'jennie'} <class 'set'>\n",
            "{'mike', 'jim', 'lee', 'dave', 'jennie'} <class 'set'>\n"
          ]
        }
      ]
    },
    {
      "cell_type": "code",
      "metadata": {
        "colab": {
          "base_uri": "https://localhost:8080/"
        },
        "id": "S55iKbwvKMN8",
        "outputId": "5d438ac2-9624-4d8f-96a1-e9744d8ffdc5"
      },
      "source": [
        "covid_cases = {\n",
        "    \"maharashtra\": [6396805, 62452, 6195744],\n",
        "    \"punjab\": [6396805, 62452, 6195744],\n",
        "    \"himachal\": [6396805, 62452, 6195744],\n",
        "    \"haryana\": [6396805, 62452, 6195744],\n",
        "}\n",
        "print(covid_cases[\"maharashtra\"])\n",
        "print(covid_cases[\"maharashtra\"][1])"
      ],
      "execution_count": null,
      "outputs": [
        {
          "name": "stdout",
          "output_type": "stream",
          "text": [
            "[6396805, 62452, 6195744]\n",
            "62452\n"
          ]
        }
      ]
    },
    {
      "cell_type": "code",
      "metadata": {
        "colab": {
          "base_uri": "https://localhost:8080/"
        },
        "id": "Mp9HSW4CPg5F",
        "outputId": "3b8514f9-139f-42f5-9604-d51b56a7761f"
      },
      "source": [
        "#          0.   1.  2.  3.  4. \n",
        "numbers = [10, 20, 30, 40, 50]\n",
        "\n",
        "students = [\"keshav\", \"raunish\", \"agam\", \"sanat\", \"ritish\"]\n",
        "\n",
        "# Reference Copy\n",
        "auribises_students = students\n",
        "\n",
        "print(\"students\")\n",
        "print(students)\n",
        "print(type(students))\n",
        "\n",
        "print(\"auribises_students\")\n",
        "print(auribises_students)\n",
        "print(type(auribises_students))\n",
        "\n",
        "print(\"students hashcode:\", id(students))\n",
        "print(\"students[1] hashcode:\", id(students[1]))\n",
        "9\n",
        "print(\"auribises_students hashcode:\", id(auribises_students))\n",
        "print(\"auribises_students[1] hashcode:\", id(auribises_students[1]))\n",
        "\n",
        "auribises_students[1] = \"john\"\n",
        "\n",
        "print(\"students hashcode:\", id(students))\n",
        "print(\"students[1] hashcode:\", id(students[1]))\n",
        "\n",
        "print(\"students finally:\", students)\n"
      ],
      "execution_count": null,
      "outputs": [
        {
          "name": "stdout",
          "output_type": "stream",
          "text": [
            "students\n",
            "['keshav', 'raunish', 'agam', 'sanat', 'ritish']\n",
            "<class 'list'>\n",
            "auribises_students\n",
            "['keshav', 'raunish', 'agam', 'sanat', 'ritish']\n",
            "<class 'list'>\n",
            "students hashcode: 139838015700176\n",
            "students[1] hashcode: 139837918383920\n",
            "auribises_students hashcode: 139838015700176\n",
            "auribises_students[1] hashcode: 139837918383920\n",
            "students hashcode: 139838015700176\n",
            "students[1] hashcode: 139837918541424\n",
            "students finally: ['keshav', 'john', 'agam', 'sanat', 'ritish']\n"
          ]
        }
      ]
    },
    {
      "cell_type": "markdown",
      "metadata": {
        "id": "oGRMChc6S-ef"
      },
      "source": [
        "# Session3\n",
        "\n",
        "Introduction to Operators"
      ]
    },
    {
      "cell_type": "code",
      "metadata": {
        "colab": {
          "base_uri": "https://localhost:8080/"
        },
        "id": "WZfpEZepTEms",
        "outputId": "62111879-23e7-41c9-ace8-7547a3876883"
      },
      "source": [
        "# Operators\n",
        "# Arithmetic Operators\n",
        "# +, -, *, /, **, //, %\n",
        "\n",
        "num1 = 10\n",
        "num2 = 20\n",
        "num3 = num1 + num2\n",
        "print(\"num3:\", num3)\n",
        "\n",
        "\n",
        "num4 = 3\n",
        "# num5 = num1 / num4\n",
        "num5 = num1 // num4\n",
        "print(num5)\n",
        "\n",
        "num6 = num4 ** 3\n",
        "print(\"num6:\", num6)\n",
        "\n",
        "num7 = num1 % num4\n",
        "print(\"num7 is:\", num7)"
      ],
      "execution_count": null,
      "outputs": [
        {
          "name": "stdout",
          "output_type": "stream",
          "text": [
            "num3: 30\n",
            "3\n",
            "num6: 27\n",
            "num7 is: 1\n"
          ]
        }
      ]
    },
    {
      "cell_type": "code",
      "metadata": {
        "colab": {
          "base_uri": "https://localhost:8080/"
        },
        "id": "oHsn5ommTwcr",
        "outputId": "94c16342-b2c7-4a2b-ab86-779d4945a80b"
      },
      "source": [
        "# Assignment Operators\n",
        "# =, +=, -=, *=, /=, //=, **=\n",
        "\n",
        "# create operation\n",
        "a = 10\n",
        "print(a is 10)\n",
        "print(\"hashcode of a:\", id(a))\n",
        "\n",
        "# update operation\n",
        "a = 20\n",
        "print(\"hashcode of a now:\", id(a))\n",
        "\n",
        "dish_quantity = 0\n",
        "\n",
        "# update operation\n",
        "# dish_quantity = dish_quantity + 1\n",
        "dish_quantity += 1\n",
        "dish_quantity += 1\n",
        "dish_quantity += 1\n",
        "dish_quantity -= 1\n",
        "dish_quantity *= 2\n",
        "dish_quantity %= 3\n",
        "dish_quantity /= 3\n",
        "print(\"dish_quantity:\", dish_quantity)"
      ],
      "execution_count": null,
      "outputs": [
        {
          "name": "stdout",
          "output_type": "stream",
          "text": [
            "True\n",
            "hashcode of a: 94035381508896\n",
            "hashcode of a now: 94035381509216\n",
            "dish_quantity: 0\n"
          ]
        }
      ]
    },
    {
      "cell_type": "code",
      "metadata": {
        "colab": {
          "base_uri": "https://localhost:8080/"
        },
        "id": "MZZrruhFXh9Z",
        "outputId": "2cc67ee1-893b-468d-ead8-1dd9d15df51c"
      },
      "source": [
        "# Conditional\n",
        "# >, <, >=, <=, ==, !=\n",
        "cab_fare = 150\n",
        "e_wallet = 200\n",
        "\n",
        "print(\"can i book cab:\", (cab_fare <= e_wallet))\n",
        "print(\"can i book cab:\", (cab_fare >= e_wallet))\n",
        "\n",
        "promo_code = \"ZOMATO\"\n",
        "code = input(\"Enter Promo Code: \")\n",
        "print(\"Can i get discount\", (promo_code == code))\n",
        "\n",
        "# Explore: is vs ==\n"
      ],
      "execution_count": null,
      "outputs": [
        {
          "name": "stdout",
          "output_type": "stream",
          "text": [
            "can i book cab: True\n",
            "can i book cab: False\n",
            "Enter Promo Code: tedgdhd\n",
            "Can i get discount False\n"
          ]
        }
      ]
    },
    {
      "cell_type": "code",
      "metadata": {
        "colab": {
          "base_uri": "https://localhost:8080/"
        },
        "id": "DVVkfkCYY0IU",
        "outputId": "f5bc170b-0c8b-4dbe-ed76-8e90b4f9b23a"
      },
      "source": [
        "# Logical Operators\n",
        "# and, or\n",
        "\n",
        "promo_code = \"ZOMATO\"\n",
        "min_amount = 300\n",
        "\n",
        "code = input(\"Enter Promo Code: \")\n",
        "amount = int(input(\"Enter Total Amount: \"))\n",
        "\n",
        "print(\"Can i get Discount\", ((code == promo_code) and (amount > min_amount)))\n",
        "print(\"Can i get Discount\", ((code == promo_code) or (amount > min_amount)))\n"
      ],
      "execution_count": null,
      "outputs": [
        {
          "name": "stdout",
          "output_type": "stream",
          "text": [
            "Enter Promo Code: ZOMATO\n",
            "Enter Total Amount: 200\n",
            "Can i get Discount False\n",
            "Can i get Discount True\n"
          ]
        }
      ]
    },
    {
      "cell_type": "code",
      "metadata": {
        "colab": {
          "base_uri": "https://localhost:8080/"
        },
        "id": "J0w21p3UaJHF",
        "outputId": "881ebc60-c0f4-4499-adee-1ed8bb6088f4"
      },
      "source": [
        "# Memebership Testing\n",
        "students = [\"john\", \"jack\", \"fionna\", \"dave\", \"kim\"]\n",
        "print(\"john\" in students)\n",
        "print(\"harry\" in students)\n",
        "print(\"sia\" not in students)"
      ],
      "execution_count": null,
      "outputs": [
        {
          "name": "stdout",
          "output_type": "stream",
          "text": [
            "True\n",
            "False\n",
            "True\n"
          ]
        }
      ]
    },
    {
      "cell_type": "markdown",
      "metadata": {
        "id": "NcaYpex7Ndyh"
      },
      "source": [
        "# Session4\n",
        "\n",
        "Introduction to File IO"
      ]
    },
    {
      "cell_type": "code",
      "metadata": {
        "colab": {
          "base_uri": "https://localhost:8080/"
        },
        "id": "tVDZrbCZNjZI",
        "outputId": "353372ca-edd3-4535-c516-6c1d90e0a1da"
      },
      "source": [
        "with open(\"dishes.csv\", \"w\") as file:\n",
        "  file.write(\"dal makhani,100\\n\")\n",
        "  file.write(\"paneer butter masala,200\\n\")\n",
        "  file.write(\"noodles,100\\n\")\n",
        "  file.write(\"burger,50\\n\")\n",
        "\n",
        "print(\"data saved\")"
      ],
      "execution_count": null,
      "outputs": [
        {
          "name": "stdout",
          "output_type": "stream",
          "text": [
            "data saved\n"
          ]
        }
      ]
    },
    {
      "cell_type": "code",
      "metadata": {
        "colab": {
          "base_uri": "https://localhost:8080/"
        },
        "id": "pMABY6YoSzs7",
        "outputId": "e641bf2f-5354-4d2e-81b1-81e2ecfb2535"
      },
      "source": [
        "with open(\"dishes.csv\", \"r\") as file:\n",
        "  data = file.read()\n",
        "  print(data)"
      ],
      "execution_count": null,
      "outputs": [
        {
          "name": "stdout",
          "output_type": "stream",
          "text": [
            "name,price\n",
            "dal makhani,100\n",
            "paneer butter masala,200\n",
            "noodles,100\n",
            "burger,50\n",
            "\n"
          ]
        }
      ]
    },
    {
      "cell_type": "code",
      "metadata": {
        "id": "uhX3ZG8dTvda"
      },
      "source": [
        "with open(\"contacts.csv\", \"a\") as file:\n",
        "    file.write(\"{},{}\\n\".format(\"NAME\", \"PHONE\"))\n",
        "\n",
        "while True:\n",
        "  name = input(\"Enter Name of Person: \")\n",
        "  phone = input(\"Enter Phone of Person: \")\n",
        "\n",
        "  with open(\"contacts.csv\", \"a\") as file:\n",
        "    file.write(\"{},{}\\n\".format(name, phone))\n",
        "\n",
        "  choice = input(\"Would you liked to add more? Enter quit to exit\")\n",
        "  if choice == \"quit\":\n",
        "    break "
      ],
      "execution_count": null,
      "outputs": []
    },
    {
      "cell_type": "markdown",
      "metadata": {
        "id": "JJvffPI1WwFu"
      },
      "source": [
        "# Session5\n",
        "\n",
        "Explore for and while loop\n",
        "\n",
        "use loops to sum up the data"
      ]
    },
    {
      "cell_type": "markdown",
      "metadata": {
        "id": "J1FfrJ0YZvCJ"
      },
      "source": [
        "Queries\n",
        "1. HashCodes\n",
        "   Data is stored in RAM. Data gets stored in buckets\n",
        "   In case we have only 1 Bucket. And if we have 1st 100 numbers, we will store all numbers 1-100 in the same bucket.\n",
        "\n",
        "   In another case we can have 10 buckets. This means now we can save 1-100 numbers in 10 buckets.\n",
        "   Benefit: To read the number it will take less time\n",
        "\n",
        "   Hashsing -> Algo to get the bucke# in which we will store the number\n",
        "\n",
        "   Consider the \n",
        "   number = 20\n",
        "   bucketSize = 10\n",
        "   hashCode = number % bucketSize -> 0\n",
        "\n",
        "   number = 17\n",
        "   bucketSize = 10\n",
        "   hashCode = number % bucketSize -> 7"
      ]
    },
    {
      "cell_type": "code",
      "metadata": {
        "id": "rpK0DjAbW7lL"
      },
      "source": [
        "for number in range(1, 11):\n",
        "  print(\"number is:\", number)\n",
        "  print(\"hello\")\n",
        "\n",
        "print(\"Thank You\")\n",
        "\n",
        "\n",
        "for number in range(2, 101, 2):\n",
        "  print(\"number with step of 2 is:\", number)\n",
        "\n",
        "# Nested Loop: Loop in a Loop\n",
        "for i in range(1, 6): # 1 2 3 4 5\n",
        "  print(\"For i:\", i)\n",
        "  for j in range(1, 4): # 1 2 3\n",
        "    print(\"j is:\", j)\n",
        "\n",
        "# Complete this program -> list the 100 prime numbers between 1 to 100\n",
        "# hint -> use nested for loop\n",
        "# for number in range(1, 101):\n",
        "#   print(\"number:\", number)\n",
        "\n",
        "  "
      ],
      "execution_count": null,
      "outputs": []
    },
    {
      "cell_type": "code",
      "metadata": {
        "id": "rS5mE2RV5hHy"
      },
      "source": [
        ""
      ],
      "execution_count": null,
      "outputs": []
    },
    {
      "cell_type": "code",
      "metadata": {
        "id": "05p6CTI05iDq"
      },
      "source": [
        ""
      ],
      "execution_count": null,
      "outputs": []
    },
    {
      "cell_type": "code",
      "metadata": {
        "colab": {
          "base_uri": "https://localhost:8080/"
        },
        "id": "r49x83W0gix8",
        "outputId": "0f77538d-d601-4759-c132-6f47c9642302"
      },
      "source": [
        "for i in range(1, 6):\n",
        "  for j in range(1, i+1):\n",
        "    print(j, end=\" \")\n",
        "  \n",
        "  print()"
      ],
      "execution_count": null,
      "outputs": [
        {
          "name": "stdout",
          "output_type": "stream",
          "text": [
            "1 \n",
            "1 2 \n",
            "1 2 3 \n",
            "1 2 3 4 \n",
            "1 2 3 4 5 \n"
          ]
        }
      ]
    },
    {
      "cell_type": "code",
      "metadata": {
        "colab": {
          "base_uri": "https://localhost:8080/"
        },
        "id": "Kcjrg78Rizf4",
        "outputId": "367fbd9f-cd1e-454d-ea9b-386c882b76ba"
      },
      "source": [
        "for i in range(1, 6):\n",
        "  for j in range(1, i+1):\n",
        "    print(i, end=\" \")\n",
        "  \n",
        "  print()"
      ],
      "execution_count": null,
      "outputs": [
        {
          "name": "stdout",
          "output_type": "stream",
          "text": [
            "1 \n",
            "2 2 \n",
            "3 3 3 \n",
            "4 4 4 4 \n",
            "5 5 5 5 5 \n"
          ]
        }
      ]
    },
    {
      "cell_type": "code",
      "metadata": {
        "colab": {
          "base_uri": "https://localhost:8080/"
        },
        "id": "mRvegu-HkarY",
        "outputId": "61e7d324-092d-47c9-a0bb-e326289ae168"
      },
      "source": [
        "# BLACK - 1\n",
        "# WHITE - 0\n",
        "\n",
        "# 4X4\n",
        "# 1 0 1 0\n",
        "# 0 1 0 1\n",
        "# 1 0 1 0\n",
        "# 0 1 0 1\n",
        "\n",
        "# hint: if/else\n",
        "for i in range(1, 9): \n",
        "  for j in range(1, 9):\n",
        "    print(j%2, end=\" \")\n",
        "  print()  "
      ],
      "execution_count": null,
      "outputs": [
        {
          "name": "stdout",
          "output_type": "stream",
          "text": [
            "1 0 1 0 1 0 1 0 \n",
            "1 0 1 0 1 0 1 0 \n",
            "1 0 1 0 1 0 1 0 \n",
            "1 0 1 0 1 0 1 0 \n",
            "1 0 1 0 1 0 1 0 \n",
            "1 0 1 0 1 0 1 0 \n",
            "1 0 1 0 1 0 1 0 \n",
            "1 0 1 0 1 0 1 0 \n"
          ]
        }
      ]
    },
    {
      "cell_type": "markdown",
      "metadata": {
        "id": "GFz5Ont05ojb"
      },
      "source": [
        "# Session6\n",
        "\n",
        "Loops Again"
      ]
    },
    {
      "cell_type": "code",
      "metadata": {
        "colab": {
          "base_uri": "https://localhost:8080/"
        },
        "id": "xJScyZBz5j5k",
        "outputId": "79b2327b-605d-4437-bece-f26015c73273"
      },
      "source": [
        "num=5\n",
        "i=1\n",
        "\n",
        "while i <=10:\n",
        "  print(num, i, \"'a are\", num*i)\n",
        "  i += 1 # i = i + 1\n"
      ],
      "execution_count": null,
      "outputs": [
        {
          "name": "stdout",
          "output_type": "stream",
          "text": [
            "5 1 'a are 5\n",
            "5 2 'a are 10\n",
            "5 3 'a are 15\n",
            "5 4 'a are 20\n",
            "5 5 'a are 25\n",
            "5 6 'a are 30\n",
            "5 7 'a are 35\n",
            "5 8 'a are 40\n",
            "5 9 'a are 45\n",
            "5 10 'a are 50\n"
          ]
        }
      ]
    },
    {
      "cell_type": "code",
      "metadata": {
        "colab": {
          "base_uri": "https://localhost:8080/"
        },
        "id": "jMF1VGRN7YV6",
        "outputId": "d5a42a25-a045-48f9-cfb2-ccf521c3ab79"
      },
      "source": [
        "num=7\n",
        "for i in range(1, 11, 2):\n",
        "  print(num, i, \"'a are\", num*i)"
      ],
      "execution_count": null,
      "outputs": [
        {
          "name": "stdout",
          "output_type": "stream",
          "text": [
            "7 1 'a are 7\n",
            "7 3 'a are 21\n",
            "7 5 'a are 35\n",
            "7 7 'a are 49\n",
            "7 9 'a are 63\n"
          ]
        }
      ]
    },
    {
      "cell_type": "code",
      "metadata": {
        "colab": {
          "base_uri": "https://localhost:8080/"
        },
        "id": "G9Ia1sRc78CB",
        "outputId": "426766c3-7f15-434e-ef35-d2fb36f85045"
      },
      "source": [
        "# Nested Loops\n",
        "for i in range(1, 11):\n",
        "  print(\"TABLE:\", i)\n",
        "  for j in range(1, 11):\n",
        "    print(i, j, \"'s are\", (i*j))\n",
        "    # print(i*j, end=\" \")\n",
        "  print(\"~~~~~~~~~~~~~~~~~~\")  "
      ],
      "execution_count": null,
      "outputs": [
        {
          "name": "stdout",
          "output_type": "stream",
          "text": [
            "TABLE: 1\n",
            "1 1 's are 1\n",
            "1 2 's are 2\n",
            "1 3 's are 3\n",
            "1 4 's are 4\n",
            "1 5 's are 5\n",
            "1 6 's are 6\n",
            "1 7 's are 7\n",
            "1 8 's are 8\n",
            "1 9 's are 9\n",
            "1 10 's are 10\n",
            "~~~~~~~~~~~~~~~~~~\n",
            "TABLE: 2\n",
            "2 1 's are 2\n",
            "2 2 's are 4\n",
            "2 3 's are 6\n",
            "2 4 's are 8\n",
            "2 5 's are 10\n",
            "2 6 's are 12\n",
            "2 7 's are 14\n",
            "2 8 's are 16\n",
            "2 9 's are 18\n",
            "2 10 's are 20\n",
            "~~~~~~~~~~~~~~~~~~\n",
            "TABLE: 3\n",
            "3 1 's are 3\n",
            "3 2 's are 6\n",
            "3 3 's are 9\n",
            "3 4 's are 12\n",
            "3 5 's are 15\n",
            "3 6 's are 18\n",
            "3 7 's are 21\n",
            "3 8 's are 24\n",
            "3 9 's are 27\n",
            "3 10 's are 30\n",
            "~~~~~~~~~~~~~~~~~~\n",
            "TABLE: 4\n",
            "4 1 's are 4\n",
            "4 2 's are 8\n",
            "4 3 's are 12\n",
            "4 4 's are 16\n",
            "4 5 's are 20\n",
            "4 6 's are 24\n",
            "4 7 's are 28\n",
            "4 8 's are 32\n",
            "4 9 's are 36\n",
            "4 10 's are 40\n",
            "~~~~~~~~~~~~~~~~~~\n",
            "TABLE: 5\n",
            "5 1 's are 5\n",
            "5 2 's are 10\n",
            "5 3 's are 15\n",
            "5 4 's are 20\n",
            "5 5 's are 25\n",
            "5 6 's are 30\n",
            "5 7 's are 35\n",
            "5 8 's are 40\n",
            "5 9 's are 45\n",
            "5 10 's are 50\n",
            "~~~~~~~~~~~~~~~~~~\n",
            "TABLE: 6\n",
            "6 1 's are 6\n",
            "6 2 's are 12\n",
            "6 3 's are 18\n",
            "6 4 's are 24\n",
            "6 5 's are 30\n",
            "6 6 's are 36\n",
            "6 7 's are 42\n",
            "6 8 's are 48\n",
            "6 9 's are 54\n",
            "6 10 's are 60\n",
            "~~~~~~~~~~~~~~~~~~\n",
            "TABLE: 7\n",
            "7 1 's are 7\n",
            "7 2 's are 14\n",
            "7 3 's are 21\n",
            "7 4 's are 28\n",
            "7 5 's are 35\n",
            "7 6 's are 42\n",
            "7 7 's are 49\n",
            "7 8 's are 56\n",
            "7 9 's are 63\n",
            "7 10 's are 70\n",
            "~~~~~~~~~~~~~~~~~~\n",
            "TABLE: 8\n",
            "8 1 's are 8\n",
            "8 2 's are 16\n",
            "8 3 's are 24\n",
            "8 4 's are 32\n",
            "8 5 's are 40\n",
            "8 6 's are 48\n",
            "8 7 's are 56\n",
            "8 8 's are 64\n",
            "8 9 's are 72\n",
            "8 10 's are 80\n",
            "~~~~~~~~~~~~~~~~~~\n",
            "TABLE: 9\n",
            "9 1 's are 9\n",
            "9 2 's are 18\n",
            "9 3 's are 27\n",
            "9 4 's are 36\n",
            "9 5 's are 45\n",
            "9 6 's are 54\n",
            "9 7 's are 63\n",
            "9 8 's are 72\n",
            "9 9 's are 81\n",
            "9 10 's are 90\n",
            "~~~~~~~~~~~~~~~~~~\n",
            "TABLE: 10\n",
            "10 1 's are 10\n",
            "10 2 's are 20\n",
            "10 3 's are 30\n",
            "10 4 's are 40\n",
            "10 5 's are 50\n",
            "10 6 's are 60\n",
            "10 7 's are 70\n",
            "10 8 's are 80\n",
            "10 9 's are 90\n",
            "10 10 's are 100\n",
            "~~~~~~~~~~~~~~~~~~\n"
          ]
        }
      ]
    },
    {
      "cell_type": "code",
      "metadata": {
        "colab": {
          "base_uri": "https://localhost:8080/"
        },
        "id": "ZwySp-f39uf3",
        "outputId": "649c4a05-2abc-42ef-ad4a-34b5bee16af7"
      },
      "source": [
        "# CHESS BOARD\n",
        "for i in range(1, 9):\n",
        "  for j in range(1, 9):\n",
        "    if i%2 == 0:\n",
        "      print((j+1)%2, end=\" \")  \n",
        "    else:\n",
        "      print(j%2, end=\" \")\n",
        "      \n",
        "  print()  "
      ],
      "execution_count": null,
      "outputs": [
        {
          "name": "stdout",
          "output_type": "stream",
          "text": [
            "1 0 1 0 1 0 1 0 \n",
            "0 1 0 1 0 1 0 1 \n",
            "1 0 1 0 1 0 1 0 \n",
            "0 1 0 1 0 1 0 1 \n",
            "1 0 1 0 1 0 1 0 \n",
            "0 1 0 1 0 1 0 1 \n",
            "1 0 1 0 1 0 1 0 \n",
            "0 1 0 1 0 1 0 1 \n"
          ]
        }
      ]
    },
    {
      "cell_type": "code",
      "metadata": {
        "id": "4Rod6pRFEByz"
      },
      "source": [
        "# i = 10\n",
        "# print(i, type(i))\n",
        "\n",
        "# chess_board = [1, 0, 1, 0, 1, 0, 1, 0]\n",
        "# print(chess_board, type(chess_board))\n",
        "# print(len(chess_board))\n",
        "\n",
        "# row_1 -> is a list of integers\n",
        "#.       0                    7\n",
        "row_1 = [\"B\", \"W\", 1, 0, 1, 0, 1, 0]\n",
        "row_2 = [0, 1, 0, 1, 0, 1, 0, 1]\n",
        "row_3 = [1, 0, 1, 0, 1, 0, 1, 0]\n",
        "row_4 = [0, 1, 0, 1, 0, 1, 0, 1]\n",
        "row_5 = [1, 0, 1, 0, 1, 0, 1, 0]\n",
        "row_6 = [0, 1, 0, 1, 0, 1, 0, 1]\n",
        "row_7 = [1, 0, 1, 0, 1, 0, 1, 0]\n",
        "row_8 = [0, 1, 0, 1, 0, 1, 0, 1]\n",
        "\n",
        "# chess_board -> List of Lists(here every list is further list of ints) :)\n",
        "chess_board = [\n",
        "       row_1, # 0\n",
        "       row_2,\n",
        "       row_3,\n",
        "       row_4,\n",
        "       row_5,\n",
        "       row_6,\n",
        "       row_7,\n",
        "       row_8, # 7\n",
        "]\n",
        "\n",
        "# print(chess_board)\n",
        "\n",
        "# for - each loop\n",
        "for row in chess_board:\n",
        "  print(row)\n",
        "\n",
        "print(\"~~~~~~~~~~~\")\n",
        "\n",
        "for i in range(0, 8):\n",
        "  print(chess_board[i])\n",
        "\n",
        "\n",
        "# Assumne Queen is Q\n",
        "# Assumne King is K\n",
        "queen = \"Q\"  \n",
        "king = \"K\"\n",
        "\n",
        "chess_board[0][3] = king\n",
        "chess_board[0][4] = queen\n",
        "\n",
        "\n",
        "chess_board[7][3] = queen\n",
        "chess_board[7][4] = king\n",
        "\n",
        "print(\"~~~~~~~~~~~\")\n",
        "\n",
        "for i in range(0, 8):\n",
        "  print(chess_board[i])\n",
        "\n",
        "\n",
        "row = int(input(\"Enter Row for Queen: \"))  \n",
        "column = int(input(\"Enter Column for Queen: \"))  \n",
        "\n",
        "chess_board[row][column] = queen\n",
        "\n",
        "\n",
        "print(\"~~~~~~~~~~~\")\n",
        "\n",
        "for i in range(0, 8):\n",
        "  print(chess_board[i])\n",
        "\n"
      ],
      "execution_count": null,
      "outputs": []
    },
    {
      "cell_type": "markdown",
      "metadata": {
        "id": "diKEuXMFBX0n"
      },
      "source": [
        "# Session7"
      ]
    },
    {
      "cell_type": "code",
      "metadata": {
        "colab": {
          "base_uri": "https://localhost:8080/"
        },
        "id": "2G-67U8rBejY",
        "outputId": "23c16e0e-43e5-4cee-ae63-247e5735d0f6"
      },
      "source": [
        "quote_in_english = \"Work Hard Be Successfull\"\n",
        "quote_in_hindi = \"कड़ी मेहनत करें और सफल बनें\"\n",
        "quote_in_punjabi = \"ਸਖਤ ਮਿਹਨਤ ਕਰੋ ਅਤੇ ਸਫਲ ਬਣੋ\"\n",
        "\n",
        "print(quote_in_english)\n",
        "print(quote_in_hindi)\n",
        "\n",
        "print(quote_in_english[0])\n",
        "print(quote_in_hindi[0])\n",
        "\n",
        "print(ord(quote_in_english[0]))\n",
        "print(ord(quote_in_hindi[0]))\n",
        "\n",
        "print(hex(ord(quote_in_english[0])))\n",
        "print(hex(ord(quote_in_hindi[0])))\n"
      ],
      "execution_count": null,
      "outputs": [
        {
          "name": "stdout",
          "output_type": "stream",
          "text": [
            "Work Hard Be Successfull\n",
            "कड़ी मेहनत करें और सफल बनें\n",
            "W\n",
            "क\n",
            "87\n",
            "2325\n",
            "0x57\n",
            "0x915\n"
          ]
        }
      ]
    },
    {
      "cell_type": "code",
      "metadata": {
        "id": "r2fXdPbpCvrj"
      },
      "source": [
        "# Unicode Range for Languages\n",
        "# https://unicode-table.com/en/blocks/\n",
        "\n",
        "# To Covert Hexadecimal to Decimal\n",
        "# https://www.rapidtables.com/convert/number/hex-to-decimal.html\n",
        "\n",
        "languages = {\n",
        "    #           0    1\n",
        "    \"hindi\": [2304, 2431],\n",
        "    \"punjabi\": [2560, 2687],\n",
        "}\n",
        "\n",
        "# print(languages[\"hindi\"])\n",
        "# print(languages[\"punjabi\"])\n",
        "# print(languages[\"punjabi\"][0])\n",
        "# print(languages[\"punjabi\"][1])\n",
        "\n",
        "# Iteration\n",
        "for language in languages:\n",
        "  print(language)\n",
        "  print(languages[language])\n",
        "  print(languages[language][0])\n",
        "  print(languages[language][1])\n"
      ],
      "execution_count": null,
      "outputs": []
    },
    {
      "cell_type": "code",
      "metadata": {
        "colab": {
          "base_uri": "https://localhost:8080/"
        },
        "id": "wRbaRF9sFs-q",
        "outputId": "feeba3fd-2aba-4557-a5f1-2b0ca926a3ee"
      },
      "source": [
        "quote = input(\"Enter Quote: \")\n",
        "\n",
        "languages = {\n",
        "    #           0    1\n",
        "    \"hindi\": [2304, 2431],\n",
        "    \"punjabi\": [2560, 2687],\n",
        "}\n",
        "\n",
        "for language in languages:\n",
        "  if ord(quote[0]) >= languages[language][0] and ord(quote[0]) <= languages[language][1]:\n",
        "    print(\"Language is:\", language)\n",
        "    break\n"
      ],
      "execution_count": null,
      "outputs": [
        {
          "name": "stdout",
          "output_type": "stream",
          "text": [
            "Enter Quote: कड़ी मेहनत करें और सफल बनें\n",
            "Language is: hindi\n"
          ]
        }
      ]
    },
    {
      "cell_type": "code",
      "metadata": {
        "colab": {
          "base_uri": "https://localhost:8080/"
        },
        "id": "aeCST7W1HdT-",
        "outputId": "b2901ebc-10b3-4716-e99f-cf6c815742d4"
      },
      "source": [
        "languages = {\n",
        "    #           0    1\n",
        "    \"hindi\": [2304, 2431],\n",
        "    \"punjabi\": [2560, 2687],\n",
        "}\n",
        "\n",
        "file_name = input(\"Enter File Name: \")\n",
        "\n",
        "with open(file_name, \"r\") as file:\n",
        "  file_contents = file.read().strip()\n",
        "\n",
        "  print(file_contents[2], ord(file_contents[2]))\n",
        "\n",
        "  for language in languages:\n",
        "    if ord(file_contents[0]) >= languages[language][0] and ord(file_contents[0]) <= languages[language][1]:\n",
        "      print(\"Language in File is:\", language)\n",
        "      break\n"
      ],
      "execution_count": null,
      "outputs": [
        {
          "name": "stdout",
          "output_type": "stream",
          "text": [
            "Enter File Name: data.txt\n",
            "ਤ 2596\n",
            "Language in File is: punjabi\n"
          ]
        }
      ]
    },
    {
      "cell_type": "code",
      "metadata": {
        "colab": {
          "base_uri": "https://localhost:8080/"
        },
        "id": "LkIbPPCEKOtB",
        "outputId": "e6d99961-6c8e-4cc3-82e2-f933d1f4c237"
      },
      "source": [
        "rupee = \"\\u20b9\"\n",
        "print(rupee)\n",
        "print()"
      ],
      "execution_count": null,
      "outputs": [
        {
          "name": "stdout",
          "output_type": "stream",
          "text": [
            "₹\n",
            "\n"
          ]
        }
      ]
    },
    {
      "cell_type": "markdown",
      "metadata": {
        "id": "tTpHZPeNa10y"
      },
      "source": [
        "# Session8\n",
        "\n",
        "Assignment 1: Read from File the numbers. create list and sum all of them\n",
        "\n",
        "Assignment 2: Find maximum and minimum in the file"
      ]
    },
    {
      "cell_type": "code",
      "metadata": {
        "colab": {
          "base_uri": "https://localhost:8080/"
        },
        "id": "f2vSp9Lca55L",
        "outputId": "6845047e-05a9-4197-eb64-2c973ed80ca3"
      },
      "source": [
        "with open(\"data.txt\") as file:\n",
        "  lines = file.readlines()\n",
        "  # print(lines)\n",
        "  # print(type(lines))\n",
        "\n",
        "  # print(int(lines[0]), type(int(lines[0])))\n",
        "\n",
        "  result = 0\n",
        "  max = int(lines[0])\n",
        "  min = int(lines[0])\n",
        "\n",
        "  for i in range(0, 10):\n",
        "    # print(int(lines[i]))\n",
        "    result = result + int(lines[i])\n",
        "\n",
        "    if int(lines[i]) > max:\n",
        "      max = int(lines[i])\n",
        "\n",
        "  print(\"result is:\", result)  \n",
        "  print(\"max is:\", max)      "
      ],
      "execution_count": null,
      "outputs": [
        {
          "name": "stdout",
          "output_type": "stream",
          "text": [
            "result is: 1425\n",
            "max is: 1000\n"
          ]
        }
      ]
    },
    {
      "cell_type": "markdown",
      "metadata": {
        "id": "2tTEiSK-cxY8"
      },
      "source": [
        "# Session9\n",
        "\n",
        "Customer Management Software"
      ]
    },
    {
      "cell_type": "code",
      "metadata": {
        "colab": {
          "base_uri": "https://localhost:8080/"
        },
        "id": "055xytF5c2OX",
        "outputId": "3bcd2f0d-f94c-4451-f2d2-43b498d8b6e6"
      },
      "source": [
        "import datetime\n",
        "\n",
        "\n",
        "while True:\n",
        "  name = input(\"Enter Customer Name: \")\n",
        "  phone = input(\"Enter Customer Phone: \")\n",
        "  email = input(\"Enter Customer Email: \")\n",
        "  today = datetime.datetime.today()\n",
        "\n",
        "  customer_to_save = \"{},{},{},{}\\n\".format(name, phone, email, today)\n",
        "  print(\"customer_to_save:\", customer_to_save)\n",
        "\n",
        "  with open(\"customers.csv\", \"a\") as file:\n",
        "    file.write(customer_to_save)\n",
        "    \n",
        "  choice = input(\"Enter quit to break\")\n",
        "  if choice == \"quit\":\n",
        "    break\n",
        "\n",
        "\n"
      ],
      "execution_count": null,
      "outputs": [
        {
          "name": "stdout",
          "output_type": "stream",
          "text": [
            "Enter Customer Name: John\n",
            "Enter Customer Phone: 9876512345\n",
            "Enter Customer Email: john@example.com\n",
            "customer_to_save: John,9876512345,john@example.com,2021-08-27 11:59:20.529860\n",
            "\n",
            "Enter quit to breakno\n",
            "Enter Customer Name: fionna\n",
            "Enter Customer Phone: 9876509090\n",
            "Enter Customer Email: fionna@example.com\n",
            "customer_to_save: fionna,9876509090,fionna@example.com,2021-08-27 11:59:34.968642\n",
            "\n",
            "Enter quit to breakno\n",
            "Enter Customer Name: Mike\n",
            "Enter Customer Phone: 9876534567\n",
            "Enter Customer Email: mike@example.com\n",
            "customer_to_save: Mike,9876534567,mike@example.com,2021-08-27 11:59:48.745765\n",
            "\n",
            "Enter quit to breakno\n",
            "Enter Customer Name: Jim\n",
            "Enter Customer Phone: 9090912121\n",
            "Enter Customer Email: jim@example.com\n",
            "customer_to_save: Jim,9090912121,jim@example.com,2021-08-27 12:00:20.026174\n",
            "\n",
            "Enter quit to breakquit\n"
          ]
        }
      ]
    },
    {
      "cell_type": "code",
      "metadata": {
        "colab": {
          "base_uri": "https://localhost:8080/"
        },
        "id": "-dEfsQ1_fpkD",
        "outputId": "950c99f8-c6d7-43a7-fc4b-db8113ffeba4"
      },
      "source": [
        "# Dictionary\n",
        "menu = {\n",
        "    \"dal\": 200,\n",
        "    \"roti\": 20,\n",
        "    \"paneer\": 300,\n",
        "    \"burger\": 100,\n",
        "    \"noodles\": 150,\n",
        "    \"pizza\": 300\n",
        "}p\n",
        "\n",
        "# Empty List\n",
        "dishes = []\n",
        "quantities = []\n",
        "cart = []\n",
        "\n",
        "# empty dictionary\n",
        "order = {}\n",
        "\n",
        "customer_phone = input(\"Enter Customer Phone: \")\n",
        "print(\"Placing Order for Customer\", customer_phone)\n",
        "\n",
        "while True:\n",
        "  dish = input(\"Enter dish: \")\n",
        "  quantity = float(input(\"Enter dish quantity: \"))\n",
        "  price = menu[dish] * quantity\n",
        "\n",
        "  order[dish] = {\n",
        "      \"price\": price,\n",
        "      \"quantity\": quantity,\n",
        "      \"price_per_quantity\": menu[dish]\n",
        "  }\n",
        "  \n",
        "  dishes.append(dish)\n",
        "  cart.append(price)\n",
        "  quantities.append(quantity)\n",
        "\n",
        "  choice = input(\"Enter quit to break, yes to continue\")\n",
        "  if choice == \"quit\":\n",
        "    break\n",
        "\n",
        "print(\"Cart is:\", cart)\n",
        "print(\"Dishes are:\", dishes)\n",
        "print(\"Quantities are:\", quantities)\n",
        "print(\"TOTAL is: \\u20b9\", sum(cart))\n",
        "\n",
        "print(\"Order is:\", order)\n"
      ],
      "execution_count": null,
      "outputs": [
        {
          "name": "stdout",
          "output_type": "stream",
          "text": [
            "Enter Customer Phone: 9090912121\n",
            "Placing Order for Customer 9090912121\n",
            "Enter dish: dal\n",
            "Enter dish quantity: 1.5\n",
            "Enter quit to break, yes to continueyes\n",
            "Enter dish: paneer\n",
            "Enter dish quantity: 2\n",
            "Enter quit to break, yes to continueyes\n",
            "Enter dish: roti\n",
            "Enter dish quantity: 8\n",
            "Enter quit to break, yes to continuequit\n",
            "Cart is: [300.0, 600.0, 160.0]\n",
            "Dishes are: ['dal', 'paneer', 'roti']\n",
            "Quantities are: [1.5, 2.0, 8.0]\n",
            "TOTAL is: ₹ 1060.0\n",
            "Order is: {'dal': {'price': 300.0, 'quantity': 1.5, 'price_per_quantity': 200}, 'paneer': {'price': 600.0, 'quantity': 2.0, 'price_per_quantity': 300}, 'roti': {'price': 160.0, 'quantity': 8.0, 'price_per_quantity': 20}}\n"
          ]
        }
      ]
    },
    {
      "cell_type": "code",
      "metadata": {
        "colab": {
          "base_uri": "https://localhost:8080/"
        },
        "id": "Qrt48Mtw7OBz",
        "outputId": "7b991a0f-44cf-497f-ce51-a46067e588f6"
      },
      "source": [
        "import datetime\n",
        "\n",
        "with open(\"orders.csv\", \"a\") as file:\n",
        "  file.write(\"{},{},{}\\n\".format(customer_phone,sum(cart),datetime.datetime.today()))\n",
        "  print(\"ORDER SAVED\")"
      ],
      "execution_count": null,
      "outputs": [
        {
          "name": "stdout",
          "output_type": "stream",
          "text": [
            "ORDER SAVED\n"
          ]
        }
      ]
    },
    {
      "cell_type": "code",
      "metadata": {
        "id": "52pnnobd70xO"
      },
      "source": [
        "# with open(\"{}-order.csv\".format(customer_phone), \"w\") as file:\n",
        "#   print(\"DISH,QUANTITY,TOTAL\\n\")\n",
        "\n",
        "with open(\"{}-order.csv\".format(customer_phone), \"a\") as file:\n",
        "  \n",
        "  for dish in order:\n",
        "    file.write(\"{},{},{}\\n\".format(dish, order[dish]['quantity'], order[dish]['price']))  \n"
      ],
      "execution_count": null,
      "outputs": []
    },
    {
      "cell_type": "markdown",
      "metadata": {
        "id": "Chou-zJV-bpq"
      },
      "source": [
        "**Assignment**\n",
        "\n",
        "When placing the order, we are asking cutomer's phone number.\n",
        "\n",
        "If the phone is in the customers.csv file, fetch name and email and write customer phone, name and email in the file orders.csv alongwith order information\n",
        "\n",
        "If the phone is not in the customers.csv file, ask name and email, save in customers.csv file and finally place the order with customer details and order details."
      ]
    },
    {
      "cell_type": "markdown",
      "metadata": {
        "id": "Lo6-ApDCEHfM"
      },
      "source": [
        "# Session10\n",
        "\n",
        "Lets Code the ScoreBoard App"
      ]
    },
    {
      "cell_type": "code",
      "metadata": {
        "colab": {
          "base_uri": "https://localhost:8080/"
        },
        "id": "vAESEC24FWB2",
        "outputId": "242b5b6f-b043-4968-af9b-0613da23d14f"
      },
      "source": [
        "team1 = {\n",
        "  \"name\": \"rcb\",\n",
        "  \"players\":{\n",
        "      \"john\": 0,\n",
        "      \"nate\": 0,\n",
        "      \"kim\": 0,\n",
        "      \"mike\": 0,\n",
        "      \"harry\": 0,\n",
        "  },\n",
        "  \"score\": 0\n",
        "}\n",
        "\n",
        "team2 = {\n",
        "  \"name\": \"mi\",\n",
        "  \"players\":{\n",
        "      \"george\": 0,\n",
        "      \"dave\": 0,\n",
        "      \"leo\": 0,\n",
        "      \"don\": 0,\n",
        "      \"paul\": 0,\n",
        "  },\n",
        "  \"score\": 0\n",
        "}\n",
        "\n",
        "print(team1)\n",
        "print(team2)\n",
        "\n",
        "teams = [team1, team2]\n",
        "print(teams)\n",
        "\n",
        "\n",
        "print(\"SCORE BOARD APP\")\n",
        "while True:\n",
        "\n",
        "  name = input(\"Enter Name of Player: \")\n",
        "  print(\"You Eneterd:\", name)\n",
        "\n",
        "  score = int(input(\"Enter Score: \"))\n",
        "\n",
        "  if name in team1['players']:\n",
        "    print(name, \"belongs to team\", team1['name'])\n",
        "    team1['players'][name] += score\n",
        "    team1['score'] += score\n",
        "  elif name in team2['players']:\n",
        "    print(name, \"belongs to team\", team2['name'])\n",
        "    team2['players'][name] += score\n",
        "    team2['score'] += score\n",
        "  else:\n",
        "    print(name, \"is not player for any team\")    \n",
        "\n",
        "\n",
        "  choice = input(\"yes to continue and no to quit: \")\n",
        "  if choice == \"no\":\n",
        "    break\n",
        "\n",
        "\n",
        "print(\"SCORE BOARD\")    \n",
        "print(team1)\n",
        "print(team2)"
      ],
      "execution_count": null,
      "outputs": [
        {
          "name": "stdout",
          "output_type": "stream",
          "text": [
            "{'name': 'rcb', 'players': {'john': 0, 'nate': 0, 'kim': 0, 'mike': 0, 'harry': 0}, 'score': 0}\n",
            "{'name': 'mi', 'players': {'george': 0, 'dave': 0, 'leo': 0, 'don': 0, 'paul': 0}, 'score': 0}\n",
            "[{'name': 'rcb', 'players': {'john': 0, 'nate': 0, 'kim': 0, 'mike': 0, 'harry': 0}, 'score': 0}, {'name': 'mi', 'players': {'george': 0, 'dave': 0, 'leo': 0, 'don': 0, 'paul': 0}, 'score': 0}]\n",
            "SCORE BOARD APP\n",
            "Enter Name of Player: dave\n",
            "You Eneterd: dave\n",
            "Enter Score: 6\n",
            "dave belongs to team mi\n",
            "yes to continue and no to quit: mike\n",
            "Enter Name of Player: mike\n",
            "You Eneterd: mike\n",
            "Enter Score: 3\n",
            "mike belongs to team rcb\n",
            "yes to continue and no to quit: no\n",
            "SCORE BOARD\n",
            "{'name': 'rcb', 'players': {'john': 0, 'nate': 0, 'kim': 0, 'mike': 3, 'harry': 0}, 'score': 3}\n",
            "{'name': 'mi', 'players': {'george': 0, 'dave': 6, 'leo': 0, 'don': 0, 'paul': 0}, 'score': 6}\n"
          ]
        }
      ]
    },
    {
      "cell_type": "code",
      "metadata": {
        "id": "3pN20wqaJzxi"
      },
      "source": [
        "with open('rcb.csv', \"a\") as file:\n",
        "  for cricketer in team1['players']:\n",
        "    file.write(\"{},{}\\n\".format(cricketer, team1['players'][cricketer]))\n",
        "\n",
        "with open('mi.csv', \"a\") as file:\n",
        "  for cricketer in team2['players']:\n",
        "    file.write(\"{},{}\\n\".format(cricketer, team2['players'][cricketer]))    "
      ],
      "execution_count": null,
      "outputs": []
    },
    {
      "cell_type": "code",
      "metadata": {
        "colab": {
          "base_uri": "https://localhost:8080/",
          "height": 513
        },
        "id": "RrXQgbqBLGTq",
        "outputId": "06654eb6-2344-4419-9f84-edc55bca054a"
      },
      "source": [
        "import matplotlib.pyplot as plt\n",
        "\n",
        "for cricketer in team1['players']:\n",
        "  plt.bar(cricketer, team1['players'][cricketer])\n",
        "\n",
        "plt.show()  \n",
        "\n",
        "\n",
        "for cricketer in team2['players']:\n",
        "  plt.bar(cricketer, team2['players'][cricketer])\n",
        "\n",
        "plt.show() "
      ],
      "execution_count": null,
      "outputs": [
        {
          "data": {
            "image/png": "[encoded data removed]",
            "text/plain": [
              "<Figure size 432x288 with 1 Axes>"
            ]
          },
          "metadata": {},
          "output_type": "display_data"
        },
        {
          "data": {
            "image/png": "[encoded data removed]",
            "text/plain": [
              "<Figure size 432x288 with 1 Axes>"
            ]
          },
          "metadata": {},
          "output_type": "display_data"
        }
      ]
    },
    {
      "cell_type": "markdown",
      "metadata": {
        "id": "rxn8tpmFLo-s"
      },
      "source": [
        "# Session11\n",
        "\n",
        "Working with Functions\n",
        "\n",
        "Function\n",
        "anyName(input)\n",
        "\n",
        "f(x) = x*x + 1\n",
        "\n",
        "x -> 1\n",
        "\n",
        "f(1) -> 1*1 + 1\n",
        "\n",
        "\n",
        "f(x, y) = x*x + y*y + 2*x*y\n",
        "\n",
        "f(2, 3) -> 2*2 + 3*3 + 2*2*3\n",
        "\n",
        "\n",
        "Function takes input(s) and processe them to give a result\n"
      ]
    },
    {
      "cell_type": "code",
      "metadata": {
        "id": "f9gtaCPzLsm8"
      },
      "source": [
        "# Creating a Function\n",
        "def f(x):\n",
        "  y = x*x + 1\n",
        "  print(y)"
      ],
      "execution_count": null,
      "outputs": []
    },
    {
      "cell_type": "code",
      "metadata": {
        "colab": {
          "base_uri": "https://localhost:8080/"
        },
        "id": "nnv-3OwHO7MG",
        "outputId": "8d9d3413-6bf1-4db0-f21b-06ccb3b4a954"
      },
      "source": [
        "# Executing a Function\n",
        "f(1)\n",
        "f(7)"
      ],
      "execution_count": null,
      "outputs": [
        {
          "name": "stdout",
          "output_type": "stream",
          "text": [
            "2\n",
            "50\n"
          ]
        }
      ]
    },
    {
      "cell_type": "code",
      "metadata": {
        "id": "GtXK0PB6PV7K"
      },
      "source": [
        "def fun(x, y):\n",
        "  z = x*x + y*y + 2*x*y\n",
        "  print(z)"
      ],
      "execution_count": null,
      "outputs": []
    },
    {
      "cell_type": "code",
      "metadata": {
        "colab": {
          "base_uri": "https://localhost:8080/"
        },
        "id": "7D-kI4czPsA9",
        "outputId": "da24d2d4-27c0-4980-e6fa-ffcd9fae8a51"
      },
      "source": [
        "fun(1, 2)\n",
        "fun(3, 5)"
      ],
      "execution_count": null,
      "outputs": [
        {
          "name": "stdout",
          "output_type": "stream",
          "text": [
            "9\n",
            "64\n"
          ]
        }
      ]
    },
    {
      "cell_type": "code",
      "metadata": {
        "id": "9SwBOtsjQorA"
      },
      "source": [
        "def apply_promo_code(amount, promo_code):\n",
        "  if promo_code == \"FLAT75\":\n",
        "    print(\"Promo Code\", promo_code, \"applied successfully\")\n",
        "    amount = amount-75\n",
        "    print(\"Please Pay\", amount)\n",
        "  else:  \n",
        "    print(\"Inavlid Promo Code\", promo_code)\n",
        "    print(\"Please Pay\", amount)\n"
      ],
      "execution_count": null,
      "outputs": []
    },
    {
      "cell_type": "code",
      "metadata": {
        "colab": {
          "base_uri": "https://localhost:8080/"
        },
        "id": "OkUj41o8RUPl",
        "outputId": "9fab45a3-47fc-4450-807b-bf5b5c9dc611"
      },
      "source": [
        "apply_promo_code(1000, \"FLAT75\")\n",
        "apply_promo_code(1000, \"BINGO\")"
      ],
      "execution_count": null,
      "outputs": [
        {
          "name": "stdout",
          "output_type": "stream",
          "text": [
            "Promo Code FLAT75 applied successfully\n",
            "Please Pay 925\n",
            "Inavlid Promo Code BINGO\n",
            "Please Pay 1000\n"
          ]
        }
      ]
    },
    {
      "cell_type": "code",
      "metadata": {
        "colab": {
          "base_uri": "https://localhost:8080/"
        },
        "id": "M0Q8Fr3xT3oq",
        "outputId": "bca6f38b-fd09-4329-d1b2-4b8d69eca6c4"
      },
      "source": [
        "name = input(\"Enter Your Name: \")\n",
        "print(name, type(name))"
      ],
      "execution_count": null,
      "outputs": [
        {
          "name": "stdout",
          "output_type": "stream",
          "text": [
            "Enter Your Name: John\n",
            "John <class 'str'>\n"
          ]
        }
      ]
    },
    {
      "cell_type": "code",
      "metadata": {
        "id": "yKcUcvQbUbE0"
      },
      "source": [
        "def user_details():\n",
        "  name = input(\"Enter Your Name: \")\n",
        "  phone = input(\"Enter Your Phone: \")\n",
        "  email = input(\"Enter Your Email: \")\n",
        "\n",
        "  data = \"{},{},{}\\n\".format(name, phone, email)\n",
        "  print(data)\n",
        "\n",
        "  with open(\"users.csv\", \"a\") as file:\n",
        "    file.write(data)"
      ],
      "execution_count": null,
      "outputs": []
    },
    {
      "cell_type": "code",
      "metadata": {
        "colab": {
          "base_uri": "https://localhost:8080/"
        },
        "id": "uFYoKZz4UsMs",
        "outputId": "243854a4-a97e-46d4-f297-7e7082d314ce"
      },
      "source": [
        "while True:\n",
        "  user_details()\n",
        "\n",
        "  choice = input(\"Enter yes to continue no to quit: \")\n",
        "  if choice == \"no\":\n",
        "    break\n"
      ],
      "execution_count": null,
      "outputs": [
        {
          "name": "stdout",
          "output_type": "stream",
          "text": [
            "Enter Your Name: Harry\n",
            "Enter Your Phone: 9876509090\n",
            "Enter Your Email: harray@example.com\n",
            "Harry,9876509090,harray@example.com\n",
            "\n",
            "Enter yes to continue no to quit: hanji\n",
            "Enter Your Name: George\n",
            "Enter Your Phone: 9876534343\n",
            "Enter Your Email: george@example.com\n",
            "George,9876534343,george@example.com\n",
            "\n",
            "Enter yes to continue no to quit: no\n"
          ]
        }
      ]
    },
    {
      "cell_type": "markdown",
      "metadata": {
        "id": "sJGCf_UoeOTB"
      },
      "source": [
        "Assignment:\n",
        "John\n",
        "Jack\n",
        "\n",
        "Construct the Wall | Brick\n",
        "\n",
        "\n",
        "Client -> wall with 13 bricks\n",
        "\n",
        "John 1\n",
        "\n",
        "Jack 1*2 2\n",
        "\n",
        "TB: 3\n",
        "\n",
        "John 2\n",
        "\n",
        "Jack 2*2 4\n",
        "\n",
        "TB: 9\n",
        "\n",
        "John 3\n",
        "\n",
        "Jack 3*2 6 -> Here Jack needs to put only 1 Brick\n",
        "\n",
        "1. Who Placed the last brick : Jack\n",
        "2. How many bricks were placed in the end: 1"
      ]
    },
    {
      "cell_type": "code",
      "metadata": {
        "colab": {
          "base_uri": "https://localhost:8080/"
        },
        "id": "gDVRvNrmgbgR",
        "outputId": "5c285031-83e3-4be0-c44d-a0f1a270f7cf"
      },
      "source": [
        "# bricks = int(input(\"Enter Number of Bricks: \"))\n",
        "bricks = 9\n",
        "\n",
        "total_bricks = 0\n",
        "for i in range(1, bricks):\n",
        "\n",
        "  total_bricks += i\n",
        "  if total_bricks >= bricks:\n",
        "    # print(total_bricks)\n",
        "    num = total_bricks - bricks\n",
        "    print(\"John Placed the Last Brick:\", i-num)\n",
        "    break\n",
        "\n",
        "  total_bricks += i*2\n",
        "  if total_bricks >= bricks:\n",
        "    # print(total_bricks)\n",
        "    num = total_bricks - bricks\n",
        "    print(\"Jack Placed the Last Brick:\", ((i*2)-num) )\n",
        "    break"
      ],
      "execution_count": null,
      "outputs": [
        {
          "name": "stdout",
          "output_type": "stream",
          "text": [
            "Jack Placed the Last Brick: 4\n"
          ]
        }
      ]
    },
    {
      "cell_type": "code",
      "metadata": {
        "colab": {
          "base_uri": "https://localhost:8080/"
        },
        "id": "a9-JJez1rCSJ",
        "outputId": "8468846f-2956-41d4-90fd-562bb81e5c88"
      },
      "source": [
        "for i in range(1, 4):\n",
        "  print(\"i is :)\", i)\n",
        "  for j in range(1, 4):\n",
        "    print(\"j is:\", j)"
      ],
      "execution_count": null,
      "outputs": [
        {
          "name": "stdout",
          "output_type": "stream",
          "text": [
            "i is :)  1\n",
            "j is: 1\n",
            "j is: 2\n",
            "j is: 3\n",
            "i is :)  2\n",
            "j is: 1\n",
            "j is: 2\n",
            "j is: 3\n",
            "i is :)  3\n",
            "j is: 1\n",
            "j is: 2\n",
            "j is: 3\n"
          ]
        }
      ]
    },
    {
      "cell_type": "code",
      "metadata": {
        "id": "o-qA3srNre0C"
      },
      "source": [
        "\"\"\"\n",
        "0           -> 0\n",
        "1 0         -> 1\n",
        "0 1 0       -> 1\n",
        "1 0 1 0     -> 2 \n",
        "0 1 0 1 0   -> 2\n",
        "\n",
        "          ------------\n",
        "               6\n",
        "          ------------     \n",
        "\"\"\"\n"
      ],
      "execution_count": null,
      "outputs": []
    },
    {
      "cell_type": "markdown",
      "metadata": {
        "id": "SyCkG5f_WJYT"
      },
      "source": [
        "# Session12\n",
        "\n",
        "Explore Functions and OOPS"
      ]
    },
    {
      "cell_type": "code",
      "metadata": {
        "id": "RH1WmhCKWRfj"
      },
      "source": [
        "def add_numbers(num1, num2):\n",
        "  result = num1 + num2\n",
        "  print(result)\n",
        "  return result"
      ],
      "execution_count": null,
      "outputs": []
    },
    {
      "cell_type": "code",
      "metadata": {
        "colab": {
          "base_uri": "https://localhost:8080/"
        },
        "id": "L2Mk_nHnWbs-",
        "outputId": "c0ffd81e-d1f8-4206-fbc4-d8e9fee1ebff"
      },
      "source": [
        "add_numbers(10, 20)\n",
        "add_numbers(30, 40)\n",
        "add_numbers(num1=30, num2=-10)\n",
        "add_numbers(num2=30, num1=-10)"
      ],
      "execution_count": null,
      "outputs": [
        {
          "name": "stdout",
          "output_type": "stream",
          "text": [
            "30\n",
            "70\n",
            "20\n",
            "20\n"
          ]
        },
        {
          "data": {
            "text/plain": [
              "20"
            ]
          },
          "execution_count": 22,
          "metadata": {},
          "output_type": "execute_result"
        }
      ]
    },
    {
      "cell_type": "code",
      "metadata": {
        "colab": {
          "base_uri": "https://localhost:8080/"
        },
        "id": "wo56Z7xbWvyQ",
        "outputId": "4b669396-32a0-4b1d-9ebd-3485a30ad197"
      },
      "source": [
        "marks = [90, 67, 45, 99, 80]\n",
        "print(max(marks))"
      ],
      "execution_count": null,
      "outputs": [
        {
          "name": "stdout",
          "output_type": "stream",
          "text": [
            "99\n"
          ]
        }
      ]
    },
    {
      "cell_type": "code",
      "metadata": {
        "id": "QH4ozhAuXBHb"
      },
      "source": [
        "def first(data):\n",
        "  return data[0]\n",
        "\n",
        "def last(data):\n",
        "  return data[-1]  \n"
      ],
      "execution_count": null,
      "outputs": []
    },
    {
      "cell_type": "code",
      "metadata": {
        "colab": {
          "base_uri": "https://localhost:8080/"
        },
        "id": "gw3SqVH2XF3g",
        "outputId": "fbb30ef8-290f-4a72-a499-5470497f7854"
      },
      "source": [
        "result = first(marks)\n",
        "print(\"Result is:\", result)"
      ],
      "execution_count": null,
      "outputs": [
        {
          "name": "stdout",
          "output_type": "stream",
          "text": [
            "Result is: 90\n"
          ]
        }
      ]
    },
    {
      "cell_type": "code",
      "metadata": {
        "colab": {
          "base_uri": "https://localhost:8080/"
        },
        "id": "5O20SsxpXSjw",
        "outputId": "e1257435-3ffb-43f7-acd2-cb42e5b82064"
      },
      "source": [
        "print(first(marks))\n",
        "print(last(marks))"
      ],
      "execution_count": null,
      "outputs": [
        {
          "name": "stdout",
          "output_type": "stream",
          "text": [
            "90\n",
            "80\n"
          ]
        }
      ]
    },
    {
      "cell_type": "code",
      "metadata": {
        "colab": {
          "base_uri": "https://localhost:8080/"
        },
        "id": "MIFXbJwaY0De",
        "outputId": "d1f55f4a-4e43-459e-988c-996ad4d22a09"
      },
      "source": [
        "if add_numbers(10, 20) %2 == 0:\n",
        "  print(\"Even Result\")\n",
        "else:\n",
        "  print(\"Odd Result\")"
      ],
      "execution_count": null,
      "outputs": [
        {
          "name": "stdout",
          "output_type": "stream",
          "text": [
            "30\n",
            "Even Result\n"
          ]
        }
      ]
    },
    {
      "cell_type": "code",
      "metadata": {
        "id": "MSin1m_uZdiY"
      },
      "source": [
        "def hello():\n",
        "  return \"This is Awesome\""
      ],
      "execution_count": null,
      "outputs": []
    },
    {
      "cell_type": "code",
      "metadata": {
        "colab": {
          "base_uri": "https://localhost:8080/",
          "height": 35
        },
        "id": "sgkJZMt4ZgvI",
        "outputId": "4f7596bc-7056-48fa-8c8d-33c88fcb0300"
      },
      "source": [
        "hello()\n",
        "hello() # Last Function Executed if, it reurns it will automatcially print it"
      ],
      "execution_count": null,
      "outputs": [
        {
          "data": {
            "application/vnd.google.colaboratory.intrinsic+json": {
              "type": "string"
            },
            "text/plain": [
              "'This is Awesome'"
            ]
          },
          "execution_count": 25,
          "metadata": {},
          "output_type": "execute_result"
        }
      ]
    },
    {
      "cell_type": "code",
      "metadata": {
        "colab": {
          "base_uri": "https://localhost:8080/"
        },
        "id": "r72JnEhsZu24",
        "outputId": "bb2e2d32-82e4-4b49-d2a7-e2c61100ad64"
      },
      "source": [
        "# Why Functions\n",
        "\n",
        "def max_number(data):\n",
        "  max = data[0]\n",
        "  \n",
        "  for number in data:\n",
        "    if number > max:\n",
        "      max = number\n",
        "  \n",
        "  # print(\"MAX is\", max)   \n",
        "  return max\n",
        "\n",
        "marks = [90, 67, 45, 99, 80]\n",
        "print(max_number(marks))\n",
        "# max = marks[0]\n",
        "# for number in marks:\n",
        "#   if number > max:\n",
        "#     max = number\n",
        "\n",
        "# print(\"MAX is\", max) \n",
        "\n",
        "\n",
        "prices = [1290, 2267, 4135, 3499, 1280]\n",
        "print(max_number(prices))\n",
        "\n",
        "# max = prices[0]\n",
        "# for number in prices:\n",
        "#   if number > max:\n",
        "#     max = number\n",
        "\n",
        "# print(\"MAX is\", max) \n",
        "\n",
        "ages = [10, 20, 50, 60, 30, 10, 55]\n",
        "print(max_number(ages))\n",
        "# max = ages[0]\n",
        "# for number in ages:\n",
        "#   if number > max:\n",
        "#     max = number\n",
        "\n",
        "# print(\"MAX is\", max) "
      ],
      "execution_count": null,
      "outputs": [
        {
          "name": "stdout",
          "output_type": "stream",
          "text": [
            "99\n",
            "4135\n",
            "60\n"
          ]
        }
      ]
    },
    {
      "cell_type": "code",
      "metadata": {
        "colab": {
          "base_uri": "https://localhost:8080/"
        },
        "id": "TqHbBJzVbgDV",
        "outputId": "107c27f9-248e-4152-9e27-6c0524b937a7"
      },
      "source": [
        "scores = [1, 2, 3, 4, 5]\n",
        "max(scores)"
      ],
      "execution_count": null,
      "outputs": [
        {
          "data": {
            "text/plain": [
              "5"
            ]
          },
          "execution_count": 1,
          "metadata": {},
          "output_type": "execute_result"
        }
      ]
    },
    {
      "cell_type": "code",
      "metadata": {
        "colab": {
          "base_uri": "https://localhost:8080/"
        },
        "id": "O9M6TLfqcH1-",
        "outputId": "63338050-638d-40db-93c2-c3d071a62ddc"
      },
      "source": [
        "restaurant = {\n",
        "    \"name\": \"College Road Samosa\",\n",
        "    \"area\": \"College Road, Civil Lines\",\n",
        "    \"timings\": \"12:00 to 20:00\",\n",
        "    \"ratings\": 4.5,\n",
        "    \"price_per_person\": 50\n",
        "}\n",
        "\n",
        "print(restaurant)\n",
        "print(type(restaurant))"
      ],
      "execution_count": null,
      "outputs": [
        {
          "name": "stdout",
          "output_type": "stream",
          "text": [
            "{'name': 'College Road Samosa', 'area': 'College Road, Civil Lines', 'timings': '12:00 to 20:00', 'ratings': 4.5, 'price_per_person': 50}\n",
            "<class 'dict'>\n"
          ]
        }
      ]
    },
    {
      "cell_type": "code",
      "metadata": {
        "id": "9rvRQ-Opc5-M"
      },
      "source": [
        "# Create Your Own Type\n",
        "class Restaurant:\n",
        "  pass"
      ],
      "execution_count": null,
      "outputs": []
    },
    {
      "cell_type": "code",
      "metadata": {
        "colab": {
          "base_uri": "https://localhost:8080/"
        },
        "id": "VunWVSj1dTkW",
        "outputId": "fc8c3c04-4eb1-459c-8f26-c2a65b01d4bc"
      },
      "source": [
        "ref = Restaurant()\n",
        "print(ref)\n",
        "print(type(ref))\n"
      ],
      "execution_count": null,
      "outputs": [
        {
          "name": "stdout",
          "output_type": "stream",
          "text": [
            "<__main__.Restaurant object at 0x7fe17c2dae50>\n",
            "<class '__main__.Restaurant'>\n"
          ]
        }
      ]
    },
    {
      "cell_type": "code",
      "metadata": {
        "colab": {
          "base_uri": "https://localhost:8080/"
        },
        "id": "A1yJENvjdsok",
        "outputId": "9a75e53d-efc4-4bad-c2a6-d490831db063"
      },
      "source": [
        "class User:\n",
        "  pass\n",
        "\n",
        "ref = User()  \n",
        "print(ref)\n",
        "print(type(ref))\n"
      ],
      "execution_count": null,
      "outputs": [
        {
          "name": "stdout",
          "output_type": "stream",
          "text": [
            "<__main__.User object at 0x7fe17c24f150>\n",
            "<class '__main__.User'>\n"
          ]
        }
      ]
    },
    {
      "cell_type": "markdown",
      "metadata": {
        "id": "00I8nRlGSc66"
      },
      "source": [
        "# Session13"
      ]
    },
    {
      "cell_type": "code",
      "metadata": {
        "colab": {
          "base_uri": "https://localhost:8080/"
        },
        "id": "e-PGspXYSgFF",
        "outputId": "c948dc7c-a536-4ede-bde7-2688d9122146"
      },
      "source": [
        "restaurant = {\n",
        "    'title': 'College Road Samosa',\n",
        "    'address': 'College Road',\n",
        "    'price_per_person': 300,\n",
        "    'category':'street food',\n",
        "    'time': '9:30 AM to 6:30 PM'\n",
        "}\n",
        "\n",
        "restaurant"
      ],
      "execution_count": null,
      "outputs": [
        {
          "data": {
            "text/plain": [
              "{'address': 'College Road',\n",
              " 'category': 'street food',\n",
              " 'price_per_person': 300,\n",
              " 'time': '9:30 AM to 6:30 PM',\n",
              " 'title': 'College Road Samosa'}"
            ]
          },
          "execution_count": 2,
          "metadata": {},
          "output_type": "execute_result"
        }
      ]
    },
    {
      "cell_type": "code",
      "metadata": {
        "colab": {
          "base_uri": "https://localhost:8080/"
        },
        "id": "h-x0Zm8hUXqN",
        "outputId": "b49a0f1f-6a0a-4f88-997a-d40ad0308f4b"
      },
      "source": [
        "# Class\n",
        "class Restaurant:\n",
        "  pass\n",
        "\n",
        "# Object Construction Statement\n",
        "r1 = Restaurant()\n",
        "r2 = Restaurant()\n",
        "\n",
        "# Reference Copy\n",
        "r3 = r1\n",
        "\n",
        "print(r1, type(r1))\n",
        "print(r2, type(r2))\n",
        "print(r3, type(r3))"
      ],
      "execution_count": null,
      "outputs": [
        {
          "name": "stdout",
          "output_type": "stream",
          "text": [
            "<__main__.Restaurant object at 0x7fd877e34b90> <class '__main__.Restaurant'>\n",
            "<__main__.Restaurant object at 0x7fd877e34210> <class '__main__.Restaurant'>\n",
            "<__main__.Restaurant object at 0x7fd877e34b90> <class '__main__.Restaurant'>\n"
          ]
        }
      ]
    },
    {
      "cell_type": "code",
      "metadata": {
        "colab": {
          "base_uri": "https://localhost:8080/"
        },
        "id": "XvxO3I6vWPZ5",
        "outputId": "9e928034-6cdc-4fee-8549-4945e3975e9b"
      },
      "source": [
        "print(vars(r1))\n",
        "print(vars(r2))\n",
        "print(vars(r3))"
      ],
      "execution_count": null,
      "outputs": [
        {
          "name": "stdout",
          "output_type": "stream",
          "text": [
            "{}\n",
            "{}\n",
            "{}\n"
          ]
        }
      ]
    },
    {
      "cell_type": "code",
      "metadata": {
        "id": "dzP-4hA6WGA3"
      },
      "source": [
        "# Add Data in Object\n",
        "r1.title = \"Pandit Parantha\"\n",
        "r2.title = \"Table By Basant\"\n",
        "\n",
        "r1.timings = \"9:00 AM to 12:00 PM\"\n",
        "r2.phone = \"+91 99999 11111\"\n",
        "\n"
      ],
      "execution_count": null,
      "outputs": []
    },
    {
      "cell_type": "code",
      "metadata": {
        "colab": {
          "base_uri": "https://localhost:8080/"
        },
        "id": "DJCgIBZdWbwN",
        "outputId": "d8afa96a-12b4-4c28-9194-fe7fa5460a24"
      },
      "source": [
        "# View Data from Object\n",
        "print(vars(r1))\n",
        "print(vars(r2))\n",
        "print(vars(r3))"
      ],
      "execution_count": null,
      "outputs": [
        {
          "name": "stdout",
          "output_type": "stream",
          "text": [
            "{'title': 'Pandit Parantha'}\n",
            "{'title': 'Table By Basant'}\n",
            "{'title': 'Pandit Parantha'}\n"
          ]
        }
      ]
    },
    {
      "cell_type": "code",
      "metadata": {
        "id": "Ij41nX4dWvxJ"
      },
      "source": [
        "# Update\n",
        "r3.title = \"Pandit Parantha Wala\""
      ],
      "execution_count": null,
      "outputs": []
    },
    {
      "cell_type": "code",
      "metadata": {
        "colab": {
          "base_uri": "https://localhost:8080/"
        },
        "id": "ZWOVTvJAW3Wj",
        "outputId": "09fa0fac-64e0-4533-ecde-b28a711f3303"
      },
      "source": [
        "print(vars(r1))\n",
        "print(vars(r2))\n",
        "print(vars(r3))"
      ],
      "execution_count": null,
      "outputs": [
        {
          "name": "stdout",
          "output_type": "stream",
          "text": [
            "{'title': 'Pandit Parantha Wala'}\n",
            "{'title': 'Table By Basant'}\n",
            "{'title': 'Pandit Parantha Wala'}\n"
          ]
        }
      ]
    },
    {
      "cell_type": "code",
      "metadata": {
        "id": "8EElhW-uW9XI"
      },
      "source": [
        "# Delete Data from Object\n",
        "del r1.title"
      ],
      "execution_count": null,
      "outputs": []
    },
    {
      "cell_type": "code",
      "metadata": {
        "colab": {
          "base_uri": "https://localhost:8080/"
        },
        "id": "PI6yEEcHXB6O",
        "outputId": "6f1b1932-38bd-4a45-d3c7-766350091074"
      },
      "source": [
        "print(vars(r1))\n",
        "print(vars(r2))\n",
        "print(vars(r3))"
      ],
      "execution_count": null,
      "outputs": [
        {
          "name": "stdout",
          "output_type": "stream",
          "text": [
            "{'timings': '9:00 AM to 12:00 PM', 'title': 'Pandit Parantha Wala'}\n",
            "{'title': 'Table By Basant', 'phone': '+91 99999 11111'}\n",
            "{'timings': '9:00 AM to 12:00 PM', 'title': 'Pandit Parantha Wala'}\n"
          ]
        }
      ]
    },
    {
      "cell_type": "code",
      "metadata": {
        "id": "qjLIIM1BVYFF"
      },
      "source": [
        "class Dish:\n",
        "  pass\n",
        "\n",
        "d1 = Dish()\n",
        "d2 = Dish()\n",
        "\n",
        "d1.title = None\n",
        "d1.price = 100\n",
        "d1.description = \"NA\"\n",
        "\n",
        "d2.title = \"Dal Makhani\"\n",
        "d2.price_of_dish = 200\n",
        "d2.dish_description = \"Black Lentils Cooked Overnight\"\n",
        "\n",
        "dishes = [d1, d2]\n",
        "\n",
        "# Not Standarized for Attributes\n",
        "# if d1.price > d2.price_of_dish"
      ],
      "execution_count": null,
      "outputs": []
    },
    {
      "cell_type": "code",
      "metadata": {
        "colab": {
          "base_uri": "https://localhost:8080/"
        },
        "id": "qV4t21L-WGyT",
        "outputId": "682ac14a-885a-4667-fbc8-936457b54c89"
      },
      "source": [
        "class Dish:\n",
        "  \n",
        "  # Constructor\n",
        "  def __init__(self):\n",
        "    print(\"init executed\")\n",
        "    print(\"self is:\", self)\n",
        "    self.title = None\n",
        "    self.price = 0\n",
        "    self.description = \"NA\"    \n",
        "\n",
        "\n",
        "d1 = Dish()    \n",
        "d2 = Dish()\n",
        "\n",
        "print(\"d1:\", d1)\n",
        "print(\"d2:\", d2)\n",
        "\n",
        "d1.title = \"Dal Makhani\"\n",
        "d2.title = \"Paneer Makhani\"\n",
        "\n",
        "print(\"vars(d1):\", vars(d1))\n",
        "print(\"vars(d2):\", vars(d2))"
      ],
      "execution_count": null,
      "outputs": [
        {
          "name": "stdout",
          "output_type": "stream",
          "text": [
            "init executed\n",
            "self is: <__main__.Dish object at 0x7fe44ccec4d0>\n",
            "init executed\n",
            "self is: <__main__.Dish object at 0x7fe4507de7d0>\n",
            "d1: <__main__.Dish object at 0x7fe44ccec4d0>\n",
            "d2: <__main__.Dish object at 0x7fe4507de7d0>\n",
            "vars(d1): {'title': 'Dal Makhani', 'price': 0, 'description': 'NA'}\n",
            "vars(d2): {'title': 'Paneer Makhani', 'price': 0, 'description': 'NA'}\n"
          ]
        }
      ]
    },
    {
      "cell_type": "code",
      "metadata": {
        "id": "1VlecD5NdJZB"
      },
      "source": [
        ""
      ],
      "execution_count": null,
      "outputs": []
    },
    {
      "cell_type": "code",
      "metadata": {
        "colab": {
          "base_uri": "https://localhost:8080/"
        },
        "id": "dsrzk6WvYPaF",
        "outputId": "177e1e71-e3c5-4fd6-beac-0ec6434522f7"
      },
      "source": [
        "class Dish:\n",
        "  \n",
        "  # Constructor\n",
        "  def __init__(self, title=None, price=0, description=\"NA\"):\n",
        "    print(\"init executed\")\n",
        "    print(\"self is:\", self)\n",
        "    self.title = title\n",
        "    self.price = price\n",
        "    self.description = description\n",
        "\n",
        "  def show(self):\n",
        "    print(self.title, \"is available for \\u20b9\", self.price)\n",
        "\n",
        "\n",
        "d1 = Dish(title=\"Dal Makhani\", price=200, description=\"Black Lentils Cooked Overnight\")    \n",
        "d2 = Dish()\n",
        "\n",
        "print(\"d1:\", d1)\n",
        "print(\"d2:\", d2)\n",
        "\n",
        "print(\"vars(d1):\", vars(d1))\n",
        "print(\"vars(d2):\", vars(d2))\n",
        "\n",
        "d1.show()\n",
        "d2.show()"
      ],
      "execution_count": null,
      "outputs": [
        {
          "name": "stdout",
          "output_type": "stream",
          "text": [
            "init executed\n",
            "self is: <__main__.Dish object at 0x7ff6d6686250>\n",
            "init executed\n",
            "self is: <__main__.Dish object at 0x7ff6d66863d0>\n",
            "d1: <__main__.Dish object at 0x7ff6d6686250>\n",
            "d2: <__main__.Dish object at 0x7ff6d66863d0>\n",
            "vars(d1): {'title': 'Dal Makhani', 'price': 200, 'description': 'Black Lentils Cooked Overnight'}\n",
            "vars(d2): {'title': None, 'price': 0, 'description': 'NA'}\n",
            "Dal Makhani is available for ₹ 200\n",
            "None is available for ₹ 0\n"
          ]
        }
      ]
    },
    {
      "cell_type": "markdown",
      "metadata": {
        "id": "b2sZmmPYjJCp"
      },
      "source": [
        "# Section14"
      ]
    },
    {
      "cell_type": "code",
      "metadata": {
        "id": "bmeCk1PBjLk2"
      },
      "source": [
        "class Restaurant:\n",
        "\n",
        "  def __init__(self, name=\"\", phone=\"\", address=\"\", price_per_person=0, ratings=3.0):\n",
        "    self.name = name\n",
        "    self.phone = phone\n",
        "    self.address = address\n",
        "    self.price_per_person = price_per_person\n",
        "    self.ratings = ratings\n",
        "\n",
        "  def show(self):\n",
        "    print(\"Restaurant Details:\") \n",
        "    print(self.name, self.phone, self.address, self.price_per_person, self.ratings)\n",
        "\n",
        "\n",
        "class Menu:\n",
        "\n",
        "    def __init__(self, name=\"\", num_of_dishes=0):\n",
        "      self.name = name\n",
        "      self.num_of_dishes = num_of_dishes\n",
        "\n",
        "    def show():\n",
        "       print(\"Menu Details:\") \n",
        "       print(self.name, self.num_of_dishes)\n",
        "\n",
        "\n",
        "class Dish:\n",
        "\n",
        "    def __init__(self, name=\"\", description=\"\", price=0):\n",
        "      self.name = name\n",
        "      self.description = description\n",
        "      self.price = price\n",
        "\n",
        "    def show():\n",
        "       print(\"Dish Details:\") \n",
        "       print(self.name, self.description, self.price)\n"
      ],
      "execution_count": null,
      "outputs": []
    },
    {
      "cell_type": "code",
      "metadata": {
        "id": "38_8JxP4lyLN"
      },
      "source": [
        "# Relating the Classes.\n",
        "# Restaurant HAS-A Menu\n",
        "\n",
        "class Restaurant:\n",
        "\n",
        "  def __init__(self, name=\"\", phone=\"\", address=\"\", price_per_person=0, ratings=3.0, menu=None):\n",
        "    self.name = name\n",
        "    self.phone = phone\n",
        "    self.address = address\n",
        "    self.price_per_person = price_per_person\n",
        "    self.ratings = ratings\n",
        "    self.menu = menu\n",
        "\n",
        "  def show(self):\n",
        "    print(\"Restaurant Details:\") \n",
        "    print(self.name, self.phone, self.address, self.price_per_person, self.ratings)\n",
        "    self.menu.show()\n",
        "\n",
        "\n",
        "class Menu:\n",
        "\n",
        "    def __init__(self, name=\"\", num_of_dishes=0):\n",
        "      self.name = name\n",
        "      self.num_of_dishes = num_of_dishes\n",
        "\n",
        "    def show(self):\n",
        "       print(\"Menu Details:\") \n",
        "       print(self.name, self.num_of_dishes)\n",
        "\n",
        "\n",
        "class Dish:\n",
        "\n",
        "    def __init__(self, name=\"\", description=\"\", price=0):\n",
        "      self.name = name\n",
        "      self.description = description\n",
        "      self.price = price\n",
        "\n",
        "    def show(self):\n",
        "       print(\"Dish Details:\") \n",
        "       print(self.name, self.description, self.price)"
      ],
      "execution_count": null,
      "outputs": []
    },
    {
      "cell_type": "code",
      "metadata": {
        "colab": {
          "base_uri": "https://localhost:8080/"
        },
        "id": "TPEJoo0Dl5Fw",
        "outputId": "23f203f0-4932-42c9-f2b1-8105b1bb3e58"
      },
      "source": [
        "m1 = Menu(name=\"Indian Veggie Delight\", num_of_dishes=10)\n",
        "r1 = Restaurant(name=\"Table By Basant\", phone=\"9876512345\", address=\"Feroze Gandhi Market\", price_per_person=200, ratings=4.5, menu=m1)\n",
        "\n",
        "r1.show()"
      ],
      "execution_count": null,
      "outputs": [
        {
          "name": "stdout",
          "output_type": "stream",
          "text": [
            "Restaurant Details:\n",
            "Table By Basant 9876512345 Feroze Gandhi Market 200 4.5\n",
            "Menu Details:\n",
            "Indian Veggie Delight 10\n"
          ]
        }
      ]
    },
    {
      "cell_type": "code",
      "metadata": {
        "id": "wdiDtaN7nrcJ"
      },
      "source": [
        "# Relating the Classes.\n",
        "# Restaurant HAS-A Menu\n",
        "# Menu HAS Dishes\n",
        "\n",
        "class Restaurant:\n",
        "\n",
        "  def __init__(self, name=\"\", phone=\"\", address=\"\", price_per_person=0, ratings=3.0, menu=None):\n",
        "    self.name = name\n",
        "    self.phone = phone\n",
        "    self.address = address\n",
        "    self.price_per_person = price_per_person\n",
        "    self.ratings = ratings\n",
        "    self.menu = menu\n",
        "\n",
        "  def show(self):\n",
        "    print(\"Restaurant Details:\") \n",
        "    print(self.name, self.phone, self.address, self.price_per_person, self.ratings)\n",
        "    self.menu.show()\n",
        "\n",
        "\n",
        "class Menu:\n",
        "\n",
        "    def __init__(self, name=\"\", num_of_dishes=0, dishes=None):\n",
        "      self.name = name\n",
        "      self.num_of_dishes = num_of_dishes\n",
        "      self.dishes = dishes\n",
        "\n",
        "    def show(self):\n",
        "       print(\"Menu Details:\") \n",
        "       print(self.name, self.num_of_dishes)\n",
        "       \n",
        "\n",
        "       for dish in self.dishes:\n",
        "         dish.show()\n",
        "\n",
        "\n",
        "class Dish:\n",
        "\n",
        "    def __init__(self, name=\"\", description=\"\", price=0):\n",
        "      self.name = name\n",
        "      self.description = description\n",
        "      self.price = price\n",
        "\n",
        "    def show(self):\n",
        "       print(\"Dish Details:\") \n",
        "       print(self.name, self.description, self.price)"
      ],
      "execution_count": null,
      "outputs": []
    },
    {
      "cell_type": "code",
      "metadata": {
        "colab": {
          "base_uri": "https://localhost:8080/"
        },
        "id": "ddqY49Ynn5qs",
        "outputId": "2572aeae-af24-44ed-9fb2-a2b43d802f7f"
      },
      "source": [
        "d1 = Dish(name=\"Dal Makhani\", description=\"Black Lentils Cooked Overnight\", price=200)\n",
        "d2 = Dish(name=\"Paneer Makhani\", description=\"Cottage Cheese in Indian Curry\", price=300)\n",
        "d3 = Dish(name=\"Veggie Burger\", description=\"Indian herbs Aloo Tikki Burger\", price=100)\n",
        "\n",
        "dish_list = [d1, d2, d3]\n",
        "\n",
        "m1 = Menu(name=\"Indian Veggie Delight\", num_of_dishes=len(dish_list), dishes=dish_list)\n",
        "r1 = Restaurant(name=\"Table By Basant\", phone=\"9876512345\", address=\"Feroze Gandhi Market\", price_per_person=200, ratings=4.5, menu=m1)\n",
        "\n",
        "r1.show()\n"
      ],
      "execution_count": null,
      "outputs": [
        {
          "name": "stdout",
          "output_type": "stream",
          "text": [
            "Restaurant Details:\n",
            "Table By Basant 9876512345 Feroze Gandhi Market 200 4.5\n",
            "Menu Details:\n",
            "Indian Veggie Delight 3\n",
            "Dish Details:\n",
            "Dal Makhani Black Lentils Cooked Overnight 200\n",
            "Dish Details:\n",
            "Paneer Makhani Cottage Cheese in Indian Curry 300\n",
            "Dish Details:\n",
            "Veggie Burger Indian herbs Aloo Tikki Burger 100\n"
          ]
        }
      ]
    },
    {
      "cell_type": "markdown",
      "metadata": {
        "id": "2jINOH1Ot2Zr"
      },
      "source": [
        "# Session15\n",
        "\n",
        "Doubts"
      ]
    },
    {
      "cell_type": "code",
      "metadata": {
        "colab": {
          "base_uri": "https://localhost:8080/"
        },
        "id": "-FOACjMwt5jN",
        "outputId": "98750d41-05ee-4c04-93f8-cd949d44d608"
      },
      "source": [
        "# Pass By Value\n",
        "a = 10\n",
        "\n",
        "b = a # Pass Value\n",
        "\n",
        "print(a, hex(id(a)))\n",
        "print(b, hex(id(b)))\n",
        "\n",
        "b = 20\n",
        "\n",
        "print(a, hex(id(a)))\n",
        "print(b, hex(id(b)))"
      ],
      "execution_count": null,
      "outputs": [
        {
          "name": "stdout",
          "output_type": "stream",
          "text": [
            "10 0x556cd6698b20\n",
            "10 0x556cd6698b20\n",
            "10 0x556cd6698b20\n",
            "20 0x556cd6698c60\n"
          ]
        }
      ]
    },
    {
      "cell_type": "code",
      "metadata": {
        "colab": {
          "base_uri": "https://localhost:8080/"
        },
        "id": "_3lsxHv8uRCC",
        "outputId": "cb19be71-c878-4608-a128-a8bdd8681e1e"
      },
      "source": [
        "data = [10, 20, 30, 40, 50]\n",
        "\n",
        "# Pass By Reference\n",
        "numbers = data\n",
        "\n",
        "print(data, hex(id(data)))\n",
        "print(numbers, hex(id(numbers)))\n",
        "\n",
        "data[1] = 121\n",
        "\n",
        "print(data, hex(id(data)))\n",
        "print(numbers, hex(id(numbers)))"
      ],
      "execution_count": null,
      "outputs": [
        {
          "name": "stdout",
          "output_type": "stream",
          "text": [
            "[10, 20, 30, 40, 50] 0x7fb0f981ebe0\n",
            "[10, 20, 30, 40, 50] 0x7fb0f981ebe0\n",
            "[10, 121, 30, 40, 50] 0x7fb0f981ebe0\n",
            "[10, 121, 30, 40, 50] 0x7fb0f981ebe0\n"
          ]
        }
      ]
    },
    {
      "cell_type": "code",
      "metadata": {
        "id": "MchjGoyPuqkV"
      },
      "source": [
        "# HAS-A Relationship\n",
        "class Customer:\n",
        "\n",
        "  def __init__(self, name=None, phone=None, email=None, address=None):\n",
        "    print(hex(id(address)))\n",
        "    self.name = name\n",
        "    self.phone = phone\n",
        "    self.email = email\n",
        "    self.address = address # HAS-A Relationship\n",
        "\n",
        "  def show(self):\n",
        "    print(self.name, self.phone, self.email)  \n",
        "    # self.address.show()\n",
        "    for adrs in self.address:\n",
        "      adrs.show()"
      ],
      "execution_count": null,
      "outputs": []
    },
    {
      "cell_type": "code",
      "metadata": {
        "id": "piph0RNWu_6T"
      },
      "source": [
        "class Address:\n",
        "  def __init__(self, adrsLine=None, city=None, state=None, zipCode=None):\n",
        "    self.adrsLine = adrsLine\n",
        "    self.city = city\n",
        "    self.state = state\n",
        "    self.zipCode = zipCode\n",
        "\n",
        "  def show(self):\n",
        "    print(self.adrsLine, self.city, self.state, self.zipCode) "
      ],
      "execution_count": null,
      "outputs": []
    },
    {
      "cell_type": "code",
      "metadata": {
        "colab": {
          "base_uri": "https://localhost:8080/"
        },
        "id": "wSUTMmjfvYlt",
        "outputId": "f9a6f2ed-93b7-4e24-9134-b499f7326dc5"
      },
      "source": [
        "a1 = Address(adrsLine=\"Redwood Shores\", city=\"Ludhiana\", state=\"Punjab\", zipCode=141001)\n",
        "a1.show()\n",
        "print(hex(id(a1)))"
      ],
      "execution_count": null,
      "outputs": [
        {
          "name": "stdout",
          "output_type": "stream",
          "text": [
            "Redwood Shores Ludhiana Punjab 141001\n",
            "0x7f7c8a697390\n"
          ]
        }
      ]
    },
    {
      "cell_type": "code",
      "metadata": {
        "colab": {
          "base_uri": "https://localhost:8080/"
        },
        "id": "qPP6hoc3vtV2",
        "outputId": "2faa3189-36e9-462d-8ba0-f54d55fbd996"
      },
      "source": [
        "addresses = [a1]\n",
        "c1 = Customer(name=\"John\", phone=\"9999911111\", email=\"john@example.com\", address=addresses)\n",
        "c1.show()"
      ],
      "execution_count": null,
      "outputs": [
        {
          "name": "stdout",
          "output_type": "stream",
          "text": [
            "0x7f7c8a64b140\n",
            "John 9999911111 john@example.com\n",
            "Redwood Shores Ludhiana Punjab 141001\n"
          ]
        }
      ]
    },
    {
      "cell_type": "code",
      "metadata": {
        "colab": {
          "base_uri": "https://localhost:8080/"
        },
        "id": "Mi4lwbGVwenA",
        "outputId": "27ab9092-af79-44c3-a96e-dbd58c3c1db7"
      },
      "source": [
        "a2 = Address(adrsLine=\"Country Homes\", city=\"Ludhiana\", state=\"Punjab\", zipCode=141004)\n",
        "a2.show()"
      ],
      "execution_count": null,
      "outputs": [
        {
          "name": "stdout",
          "output_type": "stream",
          "text": [
            "Country Homes Ludhiana Punjab 141004\n"
          ]
        }
      ]
    },
    {
      "cell_type": "code",
      "metadata": {
        "colab": {
          "base_uri": "https://localhost:8080/"
        },
        "id": "hy8xVrn-wnd4",
        "outputId": "7d8c215f-3396-4d7e-be2a-904274c2c1fe"
      },
      "source": [
        "addresses = [a1, a2]\n",
        "c1 = Customer(name=\"Fionna\", phone=\"9999922222\", email=\"fionna@example.com\", address=addresses)\n",
        "c1.show()"
      ],
      "execution_count": null,
      "outputs": [
        {
          "name": "stdout",
          "output_type": "stream",
          "text": [
            "0x7fb0f97e15f0\n",
            "Fionna 9999922222 fionna@example.com\n",
            "Redwood Shores Ludhiana Punjab 141001\n",
            "Country Homes Ludhiana Punjab 141004\n"
          ]
        }
      ]
    },
    {
      "cell_type": "code",
      "metadata": {
        "colab": {
          "base_uri": "https://localhost:8080/"
        },
        "id": "_gvp1s0QxVHB",
        "outputId": "cfa6f4c0-2210-43bb-edaa-ae572b74c980"
      },
      "source": [
        "\"\"\"\n",
        "  User: name, phone, email, transactions\n",
        "  Transaction: date_time, amount, from, to\n",
        "\n",
        "  John, 9999911111, john@example.com\n",
        "  Fionna, 9999922222, fionna@example.com\n",
        "  17 Sep, 2021 18:00:00, 10000, 9999922222, 9999911111\n",
        "\n",
        "  Create Classes\n",
        "  Create 3 User Objects\n",
        "  For every user create a minimum of 5 transactions\n",
        "\n",
        "\"\"\"\n",
        "\n",
        "class User:\n",
        "\n",
        "  def __init__(self, name=None, phone=None, email=None, transactions=None):\n",
        "    self.name = name\n",
        "    self.phone = phone\n",
        "    self.email = email\n",
        "    self.transactions = transactions # HAS-A Relationship\n",
        "\n",
        "  def show(self):\n",
        "    print(self.name, self.phone, self.email)  \n",
        "    for transaction in self.transactions:\n",
        "      transaction.show()\n",
        "\n",
        "\n",
        "class Transaction:\n",
        "\n",
        "  def __init__(self, date_time=None, amount=None, from_customer=None, to_customer=None):\n",
        "    self.date_time = date_time\n",
        "    self.amount = amount\n",
        "    self.from_customer = from_customer\n",
        "    self.to_customer = to_customer # HAS-A Relationship\n",
        "\n",
        "  def show(self):\n",
        "    print(self.date_time, self.amount, self.from_customer, self.to_customer)  \n",
        "\n",
        "\n",
        "t1 = Transaction(date_time=\"15 Sep, 2021 12:00\", amount=3000, from_customer=\"9999911111\", to_customer=\"9999922222\")\n",
        "t2 = Transaction(date_time=\"16 Sep, 2021 11:00\", amount=5000, from_customer=\"9999911111\", to_customer=\"9999933333\")\n",
        "t3 = Transaction(date_time=\"17 Sep, 2021 16:00\", amount=13000, from_customer=\"9999911111\", to_customer=\"9999933333\")\n",
        "t4 = Transaction(date_time=\"17 Sep, 2021 16:40\", amount=31000, from_customer=\"9999911111\", to_customer=\"999992222\")\n",
        "t5 = Transaction(date_time=\"17 Sep, 2021 17:50\", amount=1000, from_customer=\"9999911111\", to_customer=\"9999922222\")\n",
        "\n",
        "transactions1 = [t1, t2, t3, t4, t5]\n",
        "\n",
        "u1 = User(name=\"John\", phone=\"9999911111\", email=\"john@example.com\", transactions=transactions1)    \n",
        "u2 = User(name=\"Fionna\", phone=\"9999922222\", email=\"fionna@example.com\", transactions=None)    \n",
        "u3 = User(name=\"Dave\", phone=\"9999933333\", email=\"dave@example.com\", transactions=None)    \n",
        "\n",
        "\n",
        "u1.show()"
      ],
      "execution_count": null,
      "outputs": [
        {
          "name": "stdout",
          "output_type": "stream",
          "text": [
            "John 9999911111 john@example.com\n",
            "15 Sep, 2021 12:00 3000 9999911111 9999922222\n",
            "16 Sep, 2021 11:00 5000 9999911111 9999933333\n",
            "17 Sep, 2021 16:00 13000 9999911111 9999933333\n",
            "17 Sep, 2021 16:40 31000 9999911111 999992222\n",
            "17 Sep, 2021 17:50 1000 9999911111 9999922222\n"
          ]
        }
      ]
    },
    {
      "cell_type": "markdown",
      "metadata": {
        "id": "U4fga980DchN"
      },
      "source": [
        "# Section16\n"
      ]
    },
    {
      "cell_type": "code",
      "metadata": {
        "id": "Kg-zQeR3ET94"
      },
      "source": [
        "from IPython.display import display, Javascript\n",
        "from google.colab.output import eval_js\n",
        "from base64 import b64decode\n",
        "\n",
        "def take_photo(filename='photo.jpg', quality=0.8):\n",
        "  js = Javascript('''\n",
        "    async function takePhoto(quality) {\n",
        "      const div = document.createElement('div');\n",
        "      const capture = document.createElement('button');\n",
        "      capture.textContent = 'Capture';\n",
        "      div.appendChild(capture);\n",
        "\n",
        "      const video = document.createElement('video');\n",
        "      video.style.display = 'block';\n",
        "      const stream = await navigator.mediaDevices.getUserMedia({video: true});\n",
        "\n",
        "      document.body.appendChild(div);\n",
        "      div.appendChild(video);\n",
        "      video.srcObject = stream;\n",
        "      await video.play();\n",
        "\n",
        "      // Resize the output to fit the video element.\n",
        "      google.colab.output.setIframeHeight(document.documentElement.scrollHeight, true);\n",
        "\n",
        "      // Wait for Capture to be clicked.\n",
        "      await new Promise((resolve) => capture.onclick = resolve);\n",
        "\n",
        "      const canvas = document.createElement('canvas');\n",
        "      canvas.width = video.videoWidth;\n",
        "      canvas.height = video.videoHeight;\n",
        "      canvas.getContext('2d').drawImage(video, 0, 0);\n",
        "      stream.getVideoTracks()[0].stop();\n",
        "      div.remove();\n",
        "      return canvas.toDataURL('image/jpeg', quality);\n",
        "    }\n",
        "    ''')\n",
        "  display(js)\n",
        "  data = eval_js('takePhoto({})'.format(quality))\n",
        "  binary = b64decode(data.split(',')[1])\n",
        "  with open(filename, 'wb') as f:\n",
        "    f.write(binary)\n",
        "  return filename"
      ],
      "execution_count": null,
      "outputs": []
    },
    {
      "cell_type": "code",
      "metadata": {
        "colab": {
          "base_uri": "https://localhost:8080/",
          "height": 532
        },
        "id": "FQvlZU7PET-E",
        "outputId": "a7db8083-631e-4cdd-f8be-31fd8debcf03"
      },
      "source": [
        "from IPython.display import Image\n",
        "try:\n",
        "  customer_phone = input(\"Enter the Customer Phone Number: \")\n",
        "  name = \"{}.jpg\".format(customer_phone)\n",
        "  filename = take_photo(filename=name)\n",
        "  print('Saved to {}'.format(filename))\n",
        "  \n",
        "  # Show the image which was just taken.\n",
        "  display(Image(filename))\n",
        "except Exception as err:\n",
        "  # Errors will be thrown if the user does not have a webcam or if they do not\n",
        "  # grant the page permission to access it.\n",
        "  print(str(err))"
      ],
      "execution_count": null,
      "outputs": [
        {
          "name": "stdout",
          "output_type": "stream",
          "text": [
            "Enter the Customer Phone Number: 9915571177\n"
          ]
        },
        {
          "output_type": "display_data",
          "data": {
            "application/javascript": [
              "\n",
              "    async function takePhoto(quality) {\n",
              "      const div = document.createElement('div');\n",
              "      const capture = document.createElement('button');\n",
              "      capture.textContent = 'Capture';\n",
              "      div.appendChild(capture);\n",
              "\n",
              "      const video = document.createElement('video');\n",
              "      video.style.display = 'block';\n",
              "      const stream = await navigator.mediaDevices.getUserMedia({video: true});\n",
              "\n",
              "      document.body.appendChild(div);\n",
              "      div.appendChild(video);\n",
              "      video.srcObject = stream;\n",
              "      await video.play();\n",
              "\n",
              "      // Resize the output to fit the video element.\n",
              "      google.colab.output.setIframeHeight(document.documentElement.scrollHeight, true);\n",
              "\n",
              "      // Wait for Capture to be clicked.\n",
              "      await new Promise((resolve) => capture.onclick = resolve);\n",
              "\n",
              "      const canvas = document.createElement('canvas');\n",
              "      canvas.width = video.videoWidth;\n",
              "      canvas.height = video.videoHeight;\n",
              "      canvas.getContext('2d').drawImage(video, 0, 0);\n",
              "      stream.getVideoTracks()[0].stop();\n",
              "      div.remove();\n",
              "      return canvas.toDataURL('image/jpeg', quality);\n",
              "    }\n",
              "    "
            ],
            "text/plain": [
              "<IPython.core.display.Javascript object>"
            ]
          },
          "metadata": {}
        },
        {
          "output_type": "stream",
          "name": "stdout",
          "text": [
            "Saved to 9915571177.jpg\n"
          ]
        },
        {
          "output_type": "display_data",
          "data": {
            "image/jpeg": "[encoded data removed]",
            "text/plain": [
              "<IPython.core.display.Image object>"
            ]
          },
          "metadata": {}
        }
      ]
    },
    {
      "cell_type": "code",
      "metadata": {
        "colab": {
          "base_uri": "https://localhost:8080/"
        },
        "id": "QVe25tMjFfHm",
        "outputId": "8d02ae55-3b0c-4858-f413-713276fa92d0"
      },
      "source": [
        "!pip install face-recognition"
      ],
      "execution_count": null,
      "outputs": [
        {
          "output_type": "stream",
          "name": "stdout",
          "text": [
            "Collecting face-recognition\n",
            "  Downloading face_recognition-1.3.0-py2.py3-none-any.whl (15 kB)\n",
            "Requirement already satisfied: Click>=6.0 in /usr/local/lib/python3.7/dist-packages (from face-recognition) (7.1.2)\n",
            "Requirement already satisfied: dlib>=19.7 in /usr/local/lib/python3.7/dist-packages (from face-recognition) (19.18.0)\n",
            "Collecting face-recognition-models>=0.3.0\n",
            "  Downloading face_recognition_models-0.3.0.tar.gz (100.1 MB)\n",
            "\u001b[K     |████████████████████████████████| 100.1 MB 9.1 kB/s \n",
            "\u001b[?25hRequirement already satisfied: numpy in /usr/local/lib/python3.7/dist-packages (from face-recognition) (1.19.5)\n",
            "Requirement already satisfied: Pillow in /usr/local/lib/python3.7/dist-packages (from face-recognition) (7.1.2)\n",
            "Building wheels for collected packages: face-recognition-models\n",
            "  Building wheel for face-recognition-models (setup.py) ... \u001b[?25l\u001b[?25hdone\n",
            "  Created wheel for face-recognition-models: filename=face_recognition_models-0.3.0-py2.py3-none-any.whl size=100566185 sha256=4effff355b35833d96c5a654a203e2684feebcc691fa814a9ba8d61d1ff578d7\n",
            "  Stored in directory: /root/.cache/pip/wheels/d6/81/3c/884bcd5e1c120ff548d57c2ecc9ebf3281c9a6f7c0e7e7947a\n",
            "Successfully built face-recognition-models\n",
            "Installing collected packages: face-recognition-models, face-recognition\n",
            "Successfully installed face-recognition-1.3.0 face-recognition-models-0.3.0\n"
          ]
        }
      ]
    },
    {
      "cell_type": "code",
      "metadata": {
        "colab": {
          "base_uri": "https://localhost:8080/",
          "height": 235
        },
        "id": "lL39u6RtF3K1",
        "outputId": "6866a169-e6fb-4681-cbf0-dce907a3b015"
      },
      "source": [
        "import face_recognition\n",
        "customer_image = face_recognition.load_image_file(\"9915571177.jpg\")\n",
        "\n",
        "encoding1 = face_recognition.face_encodings(customer_image)[0]\n",
        "print(encoding1)\n",
        "\n",
        "# Add face encodings in this list \n",
        "known_face_encodings = []\n",
        "known_face_names = []\n",
        "known_face_encodings.append(encoding1)    \n",
        "known_face_names.append(\"Ishant\")  \n",
        "\n",
        "# known_encodings = {\n",
        "#     \"Ishant\": encoding1,\n",
        "#     \"John\": encoding2,\n",
        "# }"
      ],
      "execution_count": null,
      "outputs": [
        {
          "output_type": "error",
          "ename": "IndexError",
          "evalue": "ignored",
          "traceback": [
            "\u001b[0;31m---------------------------------------------------------------------------\u001b[0m",
            "\u001b[0;31mIndexError\u001b[0m                                Traceback (most recent call last)",
            "\u001b[0;32m<ipython-input-6-bedb5084aaa2>\u001b[0m in \u001b[0;36m<module>\u001b[0;34m()\u001b[0m\n\u001b[1;32m      2\u001b[0m \u001b[0mcustomer_image\u001b[0m \u001b[0;34m=\u001b[0m \u001b[0mface_recognition\u001b[0m\u001b[0;34m.\u001b[0m\u001b[0mload_image_file\u001b[0m\u001b[0;34m(\u001b[0m\u001b[0;34m\"9915571177.jpg\"\u001b[0m\u001b[0;34m)\u001b[0m\u001b[0;34m\u001b[0m\u001b[0;34m\u001b[0m\u001b[0m\n\u001b[1;32m      3\u001b[0m \u001b[0;34m\u001b[0m\u001b[0m\n\u001b[0;32m----> 4\u001b[0;31m \u001b[0mencoding1\u001b[0m \u001b[0;34m=\u001b[0m \u001b[0mface_recognition\u001b[0m\u001b[0;34m.\u001b[0m\u001b[0mface_encodings\u001b[0m\u001b[0;34m(\u001b[0m\u001b[0mcustomer_image\u001b[0m\u001b[0;34m)\u001b[0m\u001b[0;34m[\u001b[0m\u001b[0;36m0\u001b[0m\u001b[0;34m]\u001b[0m\u001b[0;34m\u001b[0m\u001b[0;34m\u001b[0m\u001b[0m\n\u001b[0m\u001b[1;32m      5\u001b[0m \u001b[0mprint\u001b[0m\u001b[0;34m(\u001b[0m\u001b[0mencoding1\u001b[0m\u001b[0;34m)\u001b[0m\u001b[0;34m\u001b[0m\u001b[0;34m\u001b[0m\u001b[0m\n\u001b[1;32m      6\u001b[0m \u001b[0;34m\u001b[0m\u001b[0m\n",
            "\u001b[0;31mIndexError\u001b[0m: list index out of range"
          ]
        }
      ]
    },
    {
      "cell_type": "code",
      "metadata": {
        "id": "ZAPIhEN7JBZB",
        "colab": {
          "base_uri": "https://localhost:8080/",
          "height": 532
        },
        "outputId": "ded1d8c8-6798-4754-e511-0442722fe95b"
      },
      "source": [
        "from IPython.display import Image\n",
        "try:\n",
        "  customer_phone = input(\"Enter the Customer Phone Number: \")\n",
        "  name = \"{}.jpg\".format(customer_phone)\n",
        "  filename = take_photo(filename=name)\n",
        "  print('Saved to {}'.format(filename))\n",
        "  \n",
        "  # Show the image which was just taken.\n",
        "  display(Image(filename))\n",
        "except Exception as err:\n",
        "  # Errors will be thrown if the user does not have a webcam or if they do not\n",
        "  # grant the page permission to access it.\n",
        "  print(str(err))"
      ],
      "execution_count": null,
      "outputs": [
        {
          "name": "stdout",
          "output_type": "stream",
          "text": [
            "Enter the Customer Phone Number: 0987654321\n"
          ]
        },
        {
          "output_type": "display_data",
          "data": {
            "application/javascript": [
              "\n",
              "    async function takePhoto(quality) {\n",
              "      const div = document.createElement('div');\n",
              "      const capture = document.createElement('button');\n",
              "      capture.textContent = 'Capture';\n",
              "      div.appendChild(capture);\n",
              "\n",
              "      const video = document.createElement('video');\n",
              "      video.style.display = 'block';\n",
              "      const stream = await navigator.mediaDevices.getUserMedia({video: true});\n",
              "\n",
              "      document.body.appendChild(div);\n",
              "      div.appendChild(video);\n",
              "      video.srcObject = stream;\n",
              "      await video.play();\n",
              "\n",
              "      // Resize the output to fit the video element.\n",
              "      google.colab.output.setIframeHeight(document.documentElement.scrollHeight, true);\n",
              "\n",
              "      // Wait for Capture to be clicked.\n",
              "      await new Promise((resolve) => capture.onclick = resolve);\n",
              "\n",
              "      const canvas = document.createElement('canvas');\n",
              "      canvas.width = video.videoWidth;\n",
              "      canvas.height = video.videoHeight;\n",
              "      canvas.getContext('2d').drawImage(video, 0, 0);\n",
              "      stream.getVideoTracks()[0].stop();\n",
              "      div.remove();\n",
              "      return canvas.toDataURL('image/jpeg', quality);\n",
              "    }\n",
              "    "
            ],
            "text/plain": [
              "<IPython.core.display.Javascript object>"
            ]
          },
          "metadata": {}
        },
        {
          "output_type": "stream",
          "name": "stdout",
          "text": [
            "Saved to 0987654321.jpg\n"
          ]
        },
        {
          "output_type": "display_data",
          "data": {
            "image/jpeg": "[encoded data removed]",
            "text/plain": [
              "<IPython.core.display.Image object>"
            ]
          },
          "metadata": {}
        }
      ]
    },
    {
      "cell_type": "code",
      "metadata": {
        "colab": {
          "base_uri": "https://localhost:8080/",
          "height": 380
        },
        "id": "cjk5qJvYJLYy",
        "outputId": "ff3f3a7f-d07c-4523-babf-e57d142871ad"
      },
      "source": [
        "import face_recognition\n",
        "unknown_customer = face_recognition.load_image_file(\"unknown.jpg\")\n",
        "\n",
        "unknown_encoding = face_recognition.face_encodings(unknown_customer)[0]\n",
        "print(unknown_encoding)"
      ],
      "execution_count": null,
      "outputs": [
        {
          "output_type": "error",
          "ename": "FileNotFoundError",
          "evalue": "ignored",
          "traceback": [
            "\u001b[0;31m---------------------------------------------------------------------------\u001b[0m",
            "\u001b[0;31mFileNotFoundError\u001b[0m                         Traceback (most recent call last)",
            "\u001b[0;32m<ipython-input-9-84ddb3564765>\u001b[0m in \u001b[0;36m<module>\u001b[0;34m()\u001b[0m\n\u001b[1;32m      1\u001b[0m \u001b[0;32mimport\u001b[0m \u001b[0mface_recognition\u001b[0m\u001b[0;34m\u001b[0m\u001b[0;34m\u001b[0m\u001b[0m\n\u001b[0;32m----> 2\u001b[0;31m \u001b[0munknown_customer\u001b[0m \u001b[0;34m=\u001b[0m \u001b[0mface_recognition\u001b[0m\u001b[0;34m.\u001b[0m\u001b[0mload_image_file\u001b[0m\u001b[0;34m(\u001b[0m\u001b[0;34m\"unknown.jpg\"\u001b[0m\u001b[0;34m)\u001b[0m\u001b[0;34m\u001b[0m\u001b[0;34m\u001b[0m\u001b[0m\n\u001b[0m\u001b[1;32m      3\u001b[0m \u001b[0;34m\u001b[0m\u001b[0m\n\u001b[1;32m      4\u001b[0m \u001b[0munknown_encoding\u001b[0m \u001b[0;34m=\u001b[0m \u001b[0mface_recognition\u001b[0m\u001b[0;34m.\u001b[0m\u001b[0mface_encodings\u001b[0m\u001b[0;34m(\u001b[0m\u001b[0munknown_customer\u001b[0m\u001b[0;34m)\u001b[0m\u001b[0;34m[\u001b[0m\u001b[0;36m0\u001b[0m\u001b[0;34m]\u001b[0m\u001b[0;34m\u001b[0m\u001b[0;34m\u001b[0m\u001b[0m\n\u001b[1;32m      5\u001b[0m \u001b[0mprint\u001b[0m\u001b[0;34m(\u001b[0m\u001b[0munknown_encoding\u001b[0m\u001b[0;34m)\u001b[0m\u001b[0;34m\u001b[0m\u001b[0;34m\u001b[0m\u001b[0m\n",
            "\u001b[0;32m/usr/local/lib/python3.7/dist-packages/face_recognition/api.py\u001b[0m in \u001b[0;36mload_image_file\u001b[0;34m(file, mode)\u001b[0m\n\u001b[1;32m     84\u001b[0m     \u001b[0;34m:\u001b[0m\u001b[0;32mreturn\u001b[0m\u001b[0;34m:\u001b[0m \u001b[0mimage\u001b[0m \u001b[0mcontents\u001b[0m \u001b[0;32mas\u001b[0m \u001b[0mnumpy\u001b[0m \u001b[0marray\u001b[0m\u001b[0;34m\u001b[0m\u001b[0;34m\u001b[0m\u001b[0m\n\u001b[1;32m     85\u001b[0m     \"\"\"\n\u001b[0;32m---> 86\u001b[0;31m     \u001b[0mim\u001b[0m \u001b[0;34m=\u001b[0m \u001b[0mPIL\u001b[0m\u001b[0;34m.\u001b[0m\u001b[0mImage\u001b[0m\u001b[0;34m.\u001b[0m\u001b[0mopen\u001b[0m\u001b[0;34m(\u001b[0m\u001b[0mfile\u001b[0m\u001b[0;34m)\u001b[0m\u001b[0;34m\u001b[0m\u001b[0;34m\u001b[0m\u001b[0m\n\u001b[0m\u001b[1;32m     87\u001b[0m     \u001b[0;32mif\u001b[0m \u001b[0mmode\u001b[0m\u001b[0;34m:\u001b[0m\u001b[0;34m\u001b[0m\u001b[0;34m\u001b[0m\u001b[0m\n\u001b[1;32m     88\u001b[0m         \u001b[0mim\u001b[0m \u001b[0;34m=\u001b[0m \u001b[0mim\u001b[0m\u001b[0;34m.\u001b[0m\u001b[0mconvert\u001b[0m\u001b[0;34m(\u001b[0m\u001b[0mmode\u001b[0m\u001b[0;34m)\u001b[0m\u001b[0;34m\u001b[0m\u001b[0;34m\u001b[0m\u001b[0m\n",
            "\u001b[0;32m/usr/local/lib/python3.7/dist-packages/PIL/Image.py\u001b[0m in \u001b[0;36mopen\u001b[0;34m(fp, mode)\u001b[0m\n\u001b[1;32m   2841\u001b[0m \u001b[0;34m\u001b[0m\u001b[0m\n\u001b[1;32m   2842\u001b[0m     \u001b[0;32mif\u001b[0m \u001b[0mfilename\u001b[0m\u001b[0;34m:\u001b[0m\u001b[0;34m\u001b[0m\u001b[0;34m\u001b[0m\u001b[0m\n\u001b[0;32m-> 2843\u001b[0;31m         \u001b[0mfp\u001b[0m \u001b[0;34m=\u001b[0m \u001b[0mbuiltins\u001b[0m\u001b[0;34m.\u001b[0m\u001b[0mopen\u001b[0m\u001b[0;34m(\u001b[0m\u001b[0mfilename\u001b[0m\u001b[0;34m,\u001b[0m \u001b[0;34m\"rb\"\u001b[0m\u001b[0;34m)\u001b[0m\u001b[0;34m\u001b[0m\u001b[0;34m\u001b[0m\u001b[0m\n\u001b[0m\u001b[1;32m   2844\u001b[0m         \u001b[0mexclusive_fp\u001b[0m \u001b[0;34m=\u001b[0m \u001b[0;32mTrue\u001b[0m\u001b[0;34m\u001b[0m\u001b[0;34m\u001b[0m\u001b[0m\n\u001b[1;32m   2845\u001b[0m \u001b[0;34m\u001b[0m\u001b[0m\n",
            "\u001b[0;31mFileNotFoundError\u001b[0m: [Errno 2] No such file or directory: 'unknown.jpg'"
          ]
        }
      ]
    },
    {
      "cell_type": "code",
      "metadata": {
        "colab": {
          "base_uri": "https://localhost:8080/"
        },
        "id": "1sGrBN5QJcDJ",
        "outputId": "0ea5e165-0fce-4b75-f54d-fdc53e8bcd9e"
      },
      "source": [
        "import numpy as np\n",
        "\n",
        "for encoding in known_face_encodings:\n",
        "  matches = face_recognition.compare_faces([encoding], unknown_encoding)\n",
        "  print(matches)\n",
        "\n",
        "  face_distances = face_recognition.face_distance([encoding], unknwon_encoding)\n",
        "  best_match_index = np.argmin(face_distances)\n",
        "  if matches[best_match_index]:\n",
        "    name = known_face_names[best_match_index]\n",
        "    print(\"NAME IS:\", name)\n",
        "    break\n",
        "  else:\n",
        "    print(\"NO FACE FOUND\")\n"
      ],
      "execution_count": null,
      "outputs": [
        {
          "name": "stdout",
          "output_type": "stream",
          "text": [
            "[True]\n",
            "NAME IS: Ishant\n"
          ]
        }
      ]
    },
    {
      "cell_type": "markdown",
      "metadata": {
        "id": "semhnbp5Mx3l"
      },
      "source": [
        "# Session17\n",
        "Project Work on Face Recognition\n",
        "1. We need to install face_recognition library\n",
        "2. Change the Runtime to GPU\n",
        "3. Integrate Camera Capture Code in CoLab\n",
        "4. Use face_recognition to create face encodings\n",
        "5. From the available encoding, detect an unknown face"
      ]
    },
    {
      "cell_type": "code",
      "metadata": {
        "colab": {
          "background_save": true
        },
        "id": "v8RFWk7hNizT",
        "outputId": "9e172501-fd1c-4207-cab2-0d772800e7c8"
      },
      "source": [
        "!pip install face-recognition"
      ],
      "execution_count": null,
      "outputs": [
        {
          "name": "stdout",
          "output_type": "stream",
          "text": [
            "Collecting face-recognition\n",
            "  Downloading face_recognition-1.3.0-py2.py3-none-any.whl (15 kB)\n",
            "Requirement already satisfied: Click>=6.0 in /usr/local/lib/python3.7/dist-packages (from face-recognition) (7.1.2)\n",
            "Requirement already satisfied: dlib>=19.7 in /usr/local/lib/python3.7/dist-packages (from face-recognition) (19.18.0)\n",
            "Collecting face-recognition-models>=0.3.0\n",
            "  Downloading face_recognition_models-0.3.0.tar.gz (100.1 MB)\n",
            "\u001b[K     |████████████████████████████████| 100.1 MB 9.9 kB/s \n",
            "\u001b[?25hRequirement already satisfied: numpy in /usr/local/lib/python3.7/dist-packages (from face-recognition) (1.19.5)\n",
            "Requirement already satisfied: Pillow in /usr/local/lib/python3.7/dist-packages (from face-recognition) (7.1.2)\n",
            "Building wheels for collected packages: face-recognition-models\n",
            "  Building wheel for face-recognition-models (setup.py) ... \u001b[?25l\u001b[?25hdone\n",
            "  Created wheel for face-recognition-models: filename=face_recognition_models-0.3.0-py2.py3-none-any.whl size=100566185 sha256=7044a70820a64145f9119523e1ef26c1685aea0c8d28a230affee5d3345d09a4\n",
            "  Stored in directory: /root/.cache/pip/wheels/d6/81/3c/884bcd5e1c120ff548d57c2ecc9ebf3281c9a6f7c0e7e7947a\n",
            "Successfully built face-recognition-models\n",
            "Installing collected packages: face-recognition-models, face-recognition\n",
            "Successfully installed face-recognition-1.3.0 face-recognition-models-0.3.0\n"
          ]
        }
      ]
    },
    {
      "cell_type": "code",
      "metadata": {
        "colab": {
          "background_save": true
        },
        "id": "mlMsJrlQN-Qv"
      },
      "source": [
        "from IPython.display import display, Javascript\n",
        "from google.colab.output import eval_js\n",
        "from base64 import b64decode\n",
        "\n",
        "def take_photo(filename='photo.jpg', quality=0.8):\n",
        "  js = Javascript('''\n",
        "    async function takePhoto(quality) {\n",
        "      const div = document.createElement('div');\n",
        "      const capture = document.createElement('button');\n",
        "      capture.textContent = 'Capture';\n",
        "      div.appendChild(capture);\n",
        "\n",
        "      const video = document.createElement('video');\n",
        "      video.style.display = 'block';\n",
        "      const stream = await navigator.mediaDevices.getUserMedia({video: true});\n",
        "\n",
        "      document.body.appendChild(div);\n",
        "      div.appendChild(video);\n",
        "      video.srcObject = stream;\n",
        "      await video.play();\n",
        "\n",
        "      // Resize the output to fit the video element.\n",
        "      google.colab.output.setIframeHeight(document.documentElement.scrollHeight, true);\n",
        "\n",
        "      // Wait for Capture to be clicked.\n",
        "      await new Promise((resolve) => capture.onclick = resolve);\n",
        "\n",
        "      const canvas = document.createElement('canvas');\n",
        "      canvas.width = video.videoWidth;\n",
        "      canvas.height = video.videoHeight;\n",
        "      canvas.getContext('2d').drawImage(video, 0, 0);\n",
        "      stream.getVideoTracks()[0].stop();\n",
        "      div.remove();\n",
        "      return canvas.toDataURL('image/jpeg', quality);\n",
        "    }\n",
        "    ''')\n",
        "  display(js)\n",
        "  data = eval_js('takePhoto({})'.format(quality))\n",
        "  binary = b64decode(data.split(',')[1])\n",
        "  with open(filename, 'wb') as f:\n",
        "    f.write(binary)\n",
        "  return filename"
      ],
      "execution_count": null,
      "outputs": []
    },
    {
      "cell_type": "code",
      "metadata": {
        "id": "8_0mPeQjN-Qw"
      },
      "source": [
        "from IPython.display import Image\n",
        "try:\n",
        "  roll_number = input(\"Enter Student Roll Number: \")\n",
        "  filename = take_photo(filename=\"students/{}.jpg\".format(roll_number))\n",
        "  print('Saved to {}'.format(filename))\n",
        "  \n",
        "  # Show the image which was just taken.\n",
        "  display(Image(filename))\n",
        "except Exception as err:\n",
        "  # Errors will be thrown if the user does not have a webcam or if they do not\n",
        "  # grant the page permission to access it.\n",
        "  print(str(err))"
      ],
      "execution_count": null,
      "outputs": []
    },
    {
      "cell_type": "code",
      "metadata": {
        "id": "Px0k9c4HP_v7"
      },
      "source": [
        "import os\n",
        "\n",
        "students = []\n",
        "students_encodings = []\n",
        "\n",
        "files = os.listdir(\"students\")\n",
        "# print(files)\n",
        "\n",
        "for file in files:\n",
        "  if file.endswith(\".jpg\"):\n",
        "    students.append(file)\n",
        "\n",
        "students = sorted(students)\n",
        "\n",
        "print(students)    "
      ],
      "execution_count": null,
      "outputs": []
    },
    {
      "cell_type": "code",
      "metadata": {
        "id": "6o1pElYkR-zN",
        "colab": {
          "base_uri": "https://localhost:8080/",
          "height": 373
        },
        "outputId": "9b8f8bcb-8b37-456b-d9dc-5e397db2730b"
      },
      "source": [
        "import face_recognition\n",
        "\n",
        "# student_encodings = {}\n",
        "\n",
        "for student in students:\n",
        "  print(\"Encoding students/{}\".format(student))\n",
        "  image = face_recognition.load_image_file(\"students/{}\".format(student))\n",
        "  encoding = face_recognition.face_encodings(image)[0]\n",
        "  # student_encodings[file] = encoding\n",
        "  students_encodings.append(encoding)\n",
        "\n",
        "print(students_encodings)"
      ],
      "execution_count": null,
      "outputs": [
        {
          "output_type": "error",
          "ename": "ModuleNotFoundError",
          "evalue": "ignored",
          "traceback": [
            "\u001b[0;31m---------------------------------------------------------------------------\u001b[0m",
            "\u001b[0;31mModuleNotFoundError\u001b[0m                       Traceback (most recent call last)",
            "\u001b[0;32m<ipython-input-1-f8fbb29fbef3>\u001b[0m in \u001b[0;36m<module>\u001b[0;34m()\u001b[0m\n\u001b[0;32m----> 1\u001b[0;31m \u001b[0;32mimport\u001b[0m \u001b[0mface_recognition\u001b[0m\u001b[0;34m\u001b[0m\u001b[0;34m\u001b[0m\u001b[0m\n\u001b[0m\u001b[1;32m      2\u001b[0m \u001b[0;34m\u001b[0m\u001b[0m\n\u001b[1;32m      3\u001b[0m \u001b[0;31m# student_encodings = {}\u001b[0m\u001b[0;34m\u001b[0m\u001b[0;34m\u001b[0m\u001b[0;34m\u001b[0m\u001b[0m\n\u001b[1;32m      4\u001b[0m \u001b[0;34m\u001b[0m\u001b[0m\n\u001b[1;32m      5\u001b[0m \u001b[0;32mfor\u001b[0m \u001b[0mstudent\u001b[0m \u001b[0;32min\u001b[0m \u001b[0mstudents\u001b[0m\u001b[0;34m:\u001b[0m\u001b[0;34m\u001b[0m\u001b[0;34m\u001b[0m\u001b[0m\n",
            "\u001b[0;31mModuleNotFoundError\u001b[0m: No module named 'face_recognition'",
            "",
            "\u001b[0;31m---------------------------------------------------------------------------\u001b[0;32m\nNOTE: If your import is failing due to a missing package, you can\nmanually install dependencies using either !pip or !apt.\n\nTo view examples of installing some common dependencies, click the\n\"Open Examples\" button below.\n\u001b[0;31m---------------------------------------------------------------------------\u001b[0m\n"
          ],
          "errorDetails": {
            "actions": [
              {
                "action": "open_url",
                "actionText": "Open Examples",
                "url": "/notebooks/snippets/importing_libraries.ipynb"
              }
            ]
          }
        }
      ]
    },
    {
      "cell_type": "code",
      "metadata": {
        "id": "xX-_ebNIVhiT"
      },
      "source": [
        "from IPython.display import Image\n",
        "try:\n",
        "  filename = take_photo(filename=\"unknown.jpg\".format(roll_number))\n",
        "  print('Saved to {}'.format(filename))\n",
        "  \n",
        "  # Show the image which was just taken.\n",
        "  display(Image(filename))\n",
        "except Exception as err:\n",
        "  # Errors will be thrown if the user does not have a webcam or if they do not\n",
        "  # grant the page permission to access it.\n",
        "  print(str(err))\n",
        "\n",
        "image = face_recognition.load_image_file(\"unknown.jpg\")\n",
        "unknown_encoding = face_recognition.face_encodings(image)[0]\n",
        "print(unknown_encoding)\n",
        "\n",
        "import numpy as np\n",
        "import datetime\n",
        "\n",
        "found_name = \"\"\n",
        "\n",
        "for encoding in students_encodings:\n",
        "  matches = face_recognition.compare_faces([encoding], unknown_encoding)\n",
        "  # print(matches)\n",
        "\n",
        "  face_distances = face_recognition.face_distance([encoding], unknown_encoding)\n",
        "  best_match_index = np.argmin(face_distances)\n",
        "  if matches[best_match_index]:\n",
        "    found_name = students[best_match_index]\n",
        "    break\n",
        "\n",
        "\n",
        "if len(found_name) != 0:\n",
        "  print(\"Name Found:\", found_name)\n",
        "  with open(\"attendance.csv\", \"a\") as file:\n",
        "    file.write(\"{},{}\\n\".format(found_name, datetime.datetime.now()))\n",
        "else:\n",
        "  print(\"No Name Found\") "
      ],
      "execution_count": null,
      "outputs": []
    },
    {
      "cell_type": "markdown",
      "metadata": {
        "id": "maJe4xACOVUN"
      },
      "source": [
        "# Session18\n"
      ]
    },
    {
      "cell_type": "code",
      "metadata": {
        "id": "wwBCg0LzOYlT"
      },
      "source": [
        "import mysql.connector as db\n",
        "\n",
        "\"\"\"\n",
        "    Persistence:\n",
        "        1. Save data in Files\n",
        "        2. Save data in DataBase\n",
        "            MySQL\n",
        "\n",
        "            DataBase is a collection of Tables\n",
        "            Table is Columns and Rows\n",
        "            ORM: Object Relational Mapping\n",
        "\n",
        "            id, name, phone, email, gender\n",
        "\n",
        "            create table User(\n",
        "                id int primary key auto_increment,\n",
        "                name varchar(256),\n",
        "                phone varchar(256),\n",
        "                email varchar(256),\n",
        "                gender varchar(256)\n",
        "            )\n",
        "\n",
        "            Fetch:\n",
        "            select * from User;\n",
        "            select name, phone from User;\n",
        "            select name, phone from User where id = 5;\n",
        "            select name, phone from User where gender = 'male';\n",
        "\n",
        "            Delete:\n",
        "            delete from User where id = 1\n",
        "            delete from User where name = 'John Watson'\n",
        "\n",
        "            Insert:\n",
        "            insert into User values(null, 'John Watson', '+91 99999 11111', 'john@example.com', 'male');\n",
        "            insert into User values(null, 'Fionna Flynn', '+91 88888 11111', 'fionna@example.com', 'female');\n",
        "\n",
        "            Update:\n",
        "            update User set name='John JJ', email='john.jj@example.com' where id = 1;\n",
        "\"\"\"\n",
        "\n",
        "class User:\n",
        "    def __init__(self, id, name, phone, email, gender):\n",
        "        self.id = id\n",
        "        self.name = name\n",
        "        self.phone = phone\n",
        "        self.email = email\n",
        "        self.gender = gender\n",
        "\n",
        "    def to_csv(self):\n",
        "        return \"{id},{name},{phone},{email},{gender}\\n\".format_map(vars(self))\n",
        "\n",
        "\n",
        "u1 = User(id=1, name=\"Mike\", phone=\"+91 98765 12345\", email=\"mike@example.com\", gender=\"male\")\n",
        "\n",
        "print(u1.to_csv())\n",
        "\n",
        "\"\"\"\n",
        "    Steps to Connect from Python with MySQL\n",
        "    1. Create Connection with DataBase\n",
        "\"\"\"\n",
        "connection = db.connect(user='root', password='auribises', database='gw2021py2', host='127.0.0.1')\n",
        "print(\"1. Connection Created\")\n",
        "\n",
        "\"\"\"\n",
        "    2. Obtain Cursor from DataBase Connection to perform SQL operation\n",
        "\"\"\"\n",
        "\n",
        "cursor = connection.cursor()\n",
        "print(\"2. Cursor Obtained\")\n",
        "\n",
        "\"\"\"\n",
        "    3. To create SQL Statement\n",
        "\"\"\"\n",
        "\n",
        "# sql = \"insert into User values(null, '{name}', '{phone}', '{email}', '{gender}');\".format_map(vars(u1))\n",
        "# sql = \"select * from User\"\n",
        "sql = \"select * from User where email='fionna@example.com'\"\n",
        "print(\"3. SQL Statement:\", sql)\n",
        "\n",
        "\"\"\"\n",
        "    4. Execute SQL Statement\n",
        "\"\"\"\n",
        "cursor.execute(sql)\n",
        "# connection.commit() # commit for insert, update and delete but not for select\n",
        "rows = cursor.fetchall()\n",
        "for row in rows:\n",
        "    print(row)\n",
        "    # print(row[1], row[3])\n",
        "\n",
        "print(\"4. SQL Statement Executed\")\n",
        "\n",
        "\"\"\"\n",
        "    5. Close Connection\n",
        "\"\"\"\n",
        "connection.close()\n",
        "print(\"5. Connection with DB Closed\")"
      ],
      "execution_count": null,
      "outputs": []
    }
  ]
}