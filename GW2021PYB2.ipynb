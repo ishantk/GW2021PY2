{
  "nbformat": 4,
  "nbformat_minor": 0,
  "metadata": {
    "colab": {
      "name": "GW2021PYB2.ipynb",
      "provenance": [],
      "collapsed_sections": []
    },
    "kernelspec": {
      "display_name": "Python 3",
      "name": "python3"
    },
    "language_info": {
      "name": "python"
    }
  },
  "cells": [
    {
      "cell_type": "markdown",
      "metadata": {
        "id": "--n07CzcdAxc"
      },
      "source": [
        "# Session1\n",
        "\n",
        "Introduction to Variables in Python\n",
        "\n",
        "Data Storage Containers"
      ]
    },
    {
      "cell_type": "code",
      "metadata": {
        "colab": {
          "base_uri": "https://localhost:8080/"
        },
        "id": "1zeLGqM9YXt4",
        "outputId": "439b943b-b1c4-4500-895d-f03426bcc43e"
      },
      "source": [
        "# Write Operation\n",
        "video1_likes = 2112000\n",
        "video2_likes = 135000\n",
        "\n",
        "# Read Operation\n",
        "print(\"video1 likes is:\", video1_likes, \":)\")\n",
        "print(\"video2 likes is:\", video2_likes)"
      ],
      "execution_count": null,
      "outputs": [
        {
          "name": "stdout",
          "output_type": "stream",
          "text": [
            "video1 likes is: 2112000 :)\n",
            "video2 likes is: 135000\n"
          ]
        }
      ]
    },
    {
      "cell_type": "code",
      "metadata": {
        "colab": {
          "base_uri": "https://localhost:8080/"
        },
        "id": "D8tlqT96Zqis",
        "outputId": "ca0d2fd0-01fd-443d-e2ca-cd49e9861df3"
      },
      "source": [
        "video1_comments = 300\n",
        "video2_comments = 500\n",
        " \n",
        "video1_views = 8765141\n",
        "video2_views = 15672775\n",
        " \n",
        "print(\"video1 comments is:\", video1_comments, \":)\")\n",
        "print(\"video2 comments is:\", video2_comments)\n",
        " \n",
        "print(\"video1 views is:\", video1_views, \":)\")\n",
        "print(\"video2 views is:\", video2_views)"
      ],
      "execution_count": null,
      "outputs": [
        {
          "name": "stdout",
          "output_type": "stream",
          "text": [
            "video1 comments is: 300 :)\n",
            "video2 comments is: 500\n",
            "video1 views is: 8765141 :)\n",
            "video2 views is: 15672775\n"
          ]
        }
      ]
    },
    {
      "cell_type": "code",
      "metadata": {
        "colab": {
          "base_uri": "https://localhost:8080/"
        },
        "id": "5twPFc6LaIwR",
        "outputId": "f0c3fbd3-28fa-41eb-99a9-cd2d65a5ef34"
      },
      "source": [
        "if video1_views > video2_views:\n",
        "  print(\"Lets Watch Video1\")\n",
        "else:  \n",
        "  print(\"Lets Watch Video2\")"
      ],
      "execution_count": null,
      "outputs": [
        {
          "name": "stdout",
          "output_type": "stream",
          "text": [
            "Lets Watch Video2\n"
          ]
        }
      ]
    },
    {
      "cell_type": "code",
      "metadata": {
        "colab": {
          "base_uri": "https://localhost:8080/"
        },
        "id": "t-vo_HmgbHDh",
        "outputId": "f0575bcd-ba05-4f33-c3c7-eacad3321ff9"
      },
      "source": [
        "criteria1 = 0.50*video1_views + 0.30*video1_likes + 0.20*video1_comments\n",
        "criteria2 = 0.50*video2_views + 0.30*video2_likes + 0.20*video2_comments\n",
        "\n",
        "print(\"criteria1:\", criteria1)\n",
        "print(\"criteria2:\", criteria2)"
      ],
      "execution_count": null,
      "outputs": [
        {
          "name": "stdout",
          "output_type": "stream",
          "text": [
            "criteria1: 5016230.5\n",
            "criteria2: 7876987.5\n"
          ]
        }
      ]
    },
    {
      "cell_type": "code",
      "metadata": {
        "colab": {
          "base_uri": "https://localhost:8080/"
        },
        "id": "G25SAdl0b01b",
        "outputId": "5b33f1dc-8df3-4cde-b31a-093a58fce33a"
      },
      "source": [
        "if criteria1 > criteria2:\n",
        "  print(\"Based on Criteria: Lets Watch Video 1\")\n",
        "else:\n",
        "  print(\"Based on Criteria: Lets Watch Video 2\")"
      ],
      "execution_count": null,
      "outputs": [
        {
          "name": "stdout",
          "output_type": "stream",
          "text": [
            "Based on Criteria: Lets Watch Video 2\n"
          ]
        }
      ]
    },
    {
      "cell_type": "markdown",
      "metadata": {
        "id": "qYPzT9qcBh-i"
      },
      "source": [
        "# Session2"
      ]
    },
    {
      "cell_type": "code",
      "metadata": {
        "colab": {
          "base_uri": "https://localhost:8080/"
        },
        "id": "wagveENQBlVT",
        "outputId": "aa6fdf4e-f588-4e2d-e555-d69c2a748eae"
      },
      "source": [
        "# Create Containers in Memory\n",
        "\n",
        "# Single Value Containers\n",
        "# int i.e. integer\n",
        "age = 10\n",
        "# float i.e. decimal values\n",
        "discount = 0.50\n",
        "# str i.e. string which means text\n",
        "name = 'john watson'\n",
        "\n",
        "sias_age = 10\n",
        "\n",
        "print(age, type(age), id(age), hex(id(age)))\n",
        "print(sias_age, type(sias_age), id(sias_age), hex(id(sias_age)))\n",
        "print(discount, type(discount))\n",
        "print(name, type(name))\n",
        "\"\"\"This is a comment\"\"\"\n",
        "instagram_id = \"\"\"auribises\"\"\"\n",
        "print(instagram_id, type(instagram_id))\n",
        "\n",
        "# In Python -> age, discount, name and sias_age are known as Reference Variables"
      ],
      "execution_count": null,
      "outputs": [
        {
          "name": "stdout",
          "output_type": "stream",
          "text": [
            "10 <class 'int'> 94461877324576 0x7f9b75fcf830\n",
            "10 <class 'int'> 94461877324576 0x55e99ea48b20\n",
            "0.5 <class 'float'>\n",
            "john watson <class 'str'>\n",
            "auribises <class 'str'>\n"
          ]
        }
      ]
    },
    {
      "cell_type": "code",
      "metadata": {
        "colab": {
          "base_uri": "https://localhost:8080/"
        },
        "id": "zJpnTBVKDM36",
        "outputId": "e2822fd0-bdbe-478c-df65-7154492f21ac"
      },
      "source": [
        "# Multi Value Container\n",
        "marks = (95, 75, 80, 82, 77)\n",
        "print(marks, type(marks), id(marks))\n",
        "print(marks[0])\n",
        "print(marks[4])\n",
        "# marks[0] = 88 # error\n",
        "\n",
        "marks = [95, 75, 80, 82, 77]\n",
        "print(marks, type(marks), id(marks))\n",
        "marks[1] = 85\n",
        "print(marks, type(marks), id(marks))\n",
        "\n",
        "\n",
        "# maharashtra_cases = [6396805, 62452, 6195744]\n",
        "maharashtra_cases = {\n",
        "  \"confirmed\":  6396805,\n",
        "  \"active\": 62452,\n",
        "  \"recovered\": 6195744,\n",
        "}\n",
        "print(maharashtra_cases, type(maharashtra_cases))\n",
        "\n",
        "john_instagram_followers = {\"jennie\", \"jim\", \"mike\", \"lee\", \"dave\", \"mike\"}\n",
        "print(john_instagram_followers, type(john_instagram_followers))\n",
        "john_instagram_followers.add(\"jennie\")\n",
        "print(john_instagram_followers, type(john_instagram_followers))\n"
      ],
      "execution_count": null,
      "outputs": [
        {
          "name": "stdout",
          "output_type": "stream",
          "text": [
            "(95, 75, 80, 82, 77) <class 'tuple'> 140151988947280\n",
            "95\n",
            "77\n",
            "[95, 75, 80, 82, 77] <class 'list'> 140151989018128\n",
            "[95, 85, 80, 82, 77] <class 'list'> 140151989018128\n",
            "{'confirmed': 6396805, 'active': 62452, 'recovered': 6195744} <class 'dict'>\n",
            "{'mike', 'jim', 'lee', 'dave', 'jennie'} <class 'set'>\n",
            "{'mike', 'jim', 'lee', 'dave', 'jennie'} <class 'set'>\n"
          ]
        }
      ]
    },
    {
      "cell_type": "code",
      "metadata": {
        "colab": {
          "base_uri": "https://localhost:8080/"
        },
        "id": "S55iKbwvKMN8",
        "outputId": "5d438ac2-9624-4d8f-96a1-e9744d8ffdc5"
      },
      "source": [
        "covid_cases = {\n",
        "    \"maharashtra\": [6396805, 62452, 6195744],\n",
        "    \"punjab\": [6396805, 62452, 6195744],\n",
        "    \"himachal\": [6396805, 62452, 6195744],\n",
        "    \"haryana\": [6396805, 62452, 6195744],\n",
        "}\n",
        "print(covid_cases[\"maharashtra\"])\n",
        "print(covid_cases[\"maharashtra\"][1])"
      ],
      "execution_count": null,
      "outputs": [
        {
          "name": "stdout",
          "output_type": "stream",
          "text": [
            "[6396805, 62452, 6195744]\n",
            "62452\n"
          ]
        }
      ]
    },
    {
      "cell_type": "code",
      "metadata": {
        "colab": {
          "base_uri": "https://localhost:8080/"
        },
        "id": "Mp9HSW4CPg5F",
        "outputId": "3b8514f9-139f-42f5-9604-d51b56a7761f"
      },
      "source": [
        "#          0.   1.  2.  3.  4. \n",
        "numbers = [10, 20, 30, 40, 50]\n",
        "\n",
        "students = [\"keshav\", \"raunish\", \"agam\", \"sanat\", \"ritish\"]\n",
        "\n",
        "# Reference Copy\n",
        "auribises_students = students\n",
        "\n",
        "print(\"students\")\n",
        "print(students)\n",
        "print(type(students))\n",
        "\n",
        "print(\"auribises_students\")\n",
        "print(auribises_students)\n",
        "print(type(auribises_students))\n",
        "\n",
        "print(\"students hashcode:\", id(students))\n",
        "print(\"students[1] hashcode:\", id(students[1]))\n",
        "9\n",
        "print(\"auribises_students hashcode:\", id(auribises_students))\n",
        "print(\"auribises_students[1] hashcode:\", id(auribises_students[1]))\n",
        "\n",
        "auribises_students[1] = \"john\"\n",
        "\n",
        "print(\"students hashcode:\", id(students))\n",
        "print(\"students[1] hashcode:\", id(students[1]))\n",
        "\n",
        "print(\"students finally:\", students)\n"
      ],
      "execution_count": null,
      "outputs": [
        {
          "name": "stdout",
          "output_type": "stream",
          "text": [
            "students\n",
            "['keshav', 'raunish', 'agam', 'sanat', 'ritish']\n",
            "<class 'list'>\n",
            "auribises_students\n",
            "['keshav', 'raunish', 'agam', 'sanat', 'ritish']\n",
            "<class 'list'>\n",
            "students hashcode: 139838015700176\n",
            "students[1] hashcode: 139837918383920\n",
            "auribises_students hashcode: 139838015700176\n",
            "auribises_students[1] hashcode: 139837918383920\n",
            "students hashcode: 139838015700176\n",
            "students[1] hashcode: 139837918541424\n",
            "students finally: ['keshav', 'john', 'agam', 'sanat', 'ritish']\n"
          ]
        }
      ]
    },
    {
      "cell_type": "markdown",
      "metadata": {
        "id": "oGRMChc6S-ef"
      },
      "source": [
        "# Session3\n",
        "\n",
        "Introduction to Operators"
      ]
    },
    {
      "cell_type": "code",
      "metadata": {
        "colab": {
          "base_uri": "https://localhost:8080/"
        },
        "id": "WZfpEZepTEms",
        "outputId": "62111879-23e7-41c9-ace8-7547a3876883"
      },
      "source": [
        "# Operators\n",
        "# Arithmetic Operators\n",
        "# +, -, *, /, **, //, %\n",
        "\n",
        "num1 = 10\n",
        "num2 = 20\n",
        "num3 = num1 + num2\n",
        "print(\"num3:\", num3)\n",
        "\n",
        "\n",
        "num4 = 3\n",
        "# num5 = num1 / num4\n",
        "num5 = num1 // num4\n",
        "print(num5)\n",
        "\n",
        "num6 = num4 ** 3\n",
        "print(\"num6:\", num6)\n",
        "\n",
        "num7 = num1 % num4\n",
        "print(\"num7 is:\", num7)"
      ],
      "execution_count": null,
      "outputs": [
        {
          "name": "stdout",
          "output_type": "stream",
          "text": [
            "num3: 30\n",
            "3\n",
            "num6: 27\n",
            "num7 is: 1\n"
          ]
        }
      ]
    },
    {
      "cell_type": "code",
      "metadata": {
        "colab": {
          "base_uri": "https://localhost:8080/"
        },
        "id": "oHsn5ommTwcr",
        "outputId": "94c16342-b2c7-4a2b-ab86-779d4945a80b"
      },
      "source": [
        "# Assignment Operators\n",
        "# =, +=, -=, *=, /=, //=, **=\n",
        "\n",
        "# create operation\n",
        "a = 10\n",
        "print(a is 10)\n",
        "print(\"hashcode of a:\", id(a))\n",
        "\n",
        "# update operation\n",
        "a = 20\n",
        "print(\"hashcode of a now:\", id(a))\n",
        "\n",
        "dish_quantity = 0\n",
        "\n",
        "# update operation\n",
        "# dish_quantity = dish_quantity + 1\n",
        "dish_quantity += 1\n",
        "dish_quantity += 1\n",
        "dish_quantity += 1\n",
        "dish_quantity -= 1\n",
        "dish_quantity *= 2\n",
        "dish_quantity %= 3\n",
        "dish_quantity /= 3\n",
        "print(\"dish_quantity:\", dish_quantity)"
      ],
      "execution_count": null,
      "outputs": [
        {
          "name": "stdout",
          "output_type": "stream",
          "text": [
            "True\n",
            "hashcode of a: 94035381508896\n",
            "hashcode of a now: 94035381509216\n",
            "dish_quantity: 0\n"
          ]
        }
      ]
    },
    {
      "cell_type": "code",
      "metadata": {
        "colab": {
          "base_uri": "https://localhost:8080/"
        },
        "id": "MZZrruhFXh9Z",
        "outputId": "2cc67ee1-893b-468d-ead8-1dd9d15df51c"
      },
      "source": [
        "# Conditional\n",
        "# >, <, >=, <=, ==, !=\n",
        "cab_fare = 150\n",
        "e_wallet = 200\n",
        "\n",
        "print(\"can i book cab:\", (cab_fare <= e_wallet))\n",
        "print(\"can i book cab:\", (cab_fare >= e_wallet))\n",
        "\n",
        "promo_code = \"ZOMATO\"\n",
        "code = input(\"Enter Promo Code: \")\n",
        "print(\"Can i get discount\", (promo_code == code))\n",
        "\n",
        "# Explore: is vs ==\n"
      ],
      "execution_count": null,
      "outputs": [
        {
          "name": "stdout",
          "output_type": "stream",
          "text": [
            "can i book cab: True\n",
            "can i book cab: False\n",
            "Enter Promo Code: tedgdhd\n",
            "Can i get discount False\n"
          ]
        }
      ]
    },
    {
      "cell_type": "code",
      "metadata": {
        "colab": {
          "base_uri": "https://localhost:8080/"
        },
        "id": "DVVkfkCYY0IU",
        "outputId": "f5bc170b-0c8b-4dbe-ed76-8e90b4f9b23a"
      },
      "source": [
        "# Logical Operators\n",
        "# and, or\n",
        "\n",
        "promo_code = \"ZOMATO\"\n",
        "min_amount = 300\n",
        "\n",
        "code = input(\"Enter Promo Code: \")\n",
        "amount = int(input(\"Enter Total Amount: \"))\n",
        "\n",
        "print(\"Can i get Discount\", ((code == promo_code) and (amount > min_amount)))\n",
        "print(\"Can i get Discount\", ((code == promo_code) or (amount > min_amount)))\n"
      ],
      "execution_count": null,
      "outputs": [
        {
          "name": "stdout",
          "output_type": "stream",
          "text": [
            "Enter Promo Code: ZOMATO\n",
            "Enter Total Amount: 200\n",
            "Can i get Discount False\n",
            "Can i get Discount True\n"
          ]
        }
      ]
    },
    {
      "cell_type": "code",
      "metadata": {
        "colab": {
          "base_uri": "https://localhost:8080/"
        },
        "id": "J0w21p3UaJHF",
        "outputId": "881ebc60-c0f4-4499-adee-1ed8bb6088f4"
      },
      "source": [
        "# Memebership Testing\n",
        "students = [\"john\", \"jack\", \"fionna\", \"dave\", \"kim\"]\n",
        "print(\"john\" in students)\n",
        "print(\"harry\" in students)\n",
        "print(\"sia\" not in students)"
      ],
      "execution_count": null,
      "outputs": [
        {
          "name": "stdout",
          "output_type": "stream",
          "text": [
            "True\n",
            "False\n",
            "True\n"
          ]
        }
      ]
    },
    {
      "cell_type": "markdown",
      "metadata": {
        "id": "NcaYpex7Ndyh"
      },
      "source": [
        "# Session4\n",
        "\n",
        "Introduction to File IO"
      ]
    },
    {
      "cell_type": "code",
      "metadata": {
        "colab": {
          "base_uri": "https://localhost:8080/"
        },
        "id": "tVDZrbCZNjZI",
        "outputId": "36ec8759-9d9c-4124-d702-da99b8e93b4c"
      },
      "source": [
        "with open(\"dishes.csv\", \"w\") as file:\n",
        "  file.write(\"dal makhani,100\\n\")\n",
        "  file.write(\"paneer butter masala,200\\n\")\n",
        "  file.write(\"noodles,100\\n\")\n",
        "  file.write(\"burger,50\\n\")\n",
        "\n",
        "print(\"data saved\")"
      ],
      "execution_count": null,
      "outputs": [
        {
          "name": "stdout",
          "output_type": "stream",
          "text": [
            "data saved\n"
          ]
        }
      ]
    },
    {
      "cell_type": "code",
      "metadata": {
        "colab": {
          "base_uri": "https://localhost:8080/"
        },
        "id": "pMABY6YoSzs7",
        "outputId": "e641bf2f-5354-4d2e-81b1-81e2ecfb2535"
      },
      "source": [
        "with open(\"dishes.csv\", \"r\") as file:\n",
        "  data = file.read()\n",
        "  print(data)"
      ],
      "execution_count": null,
      "outputs": [
        {
          "name": "stdout",
          "output_type": "stream",
          "text": [
            "name,price\n",
            "dal makhani,100\n",
            "paneer butter masala,200\n",
            "noodles,100\n",
            "burger,50\n",
            "\n"
          ]
        }
      ]
    },
    {
      "cell_type": "code",
      "metadata": {
        "id": "uhX3ZG8dTvda"
      },
      "source": [
        "with open(\"contacts.csv\", \"a\") as file:\n",
        "    file.write(\"{},{}\\n\".format(\"NAME\", \"PHONE\"))\n",
        "\n",
        "while True:\n",
        "  name = input(\"Enter Name of Person: \")\n",
        "  phone = input(\"Enter Phone of Person: \")\n",
        "\n",
        "  with open(\"contacts.csv\", \"a\") as file:\n",
        "    file.write(\"{},{}\\n\".format(name, phone))\n",
        "\n",
        "  choice = input(\"Would you liked to add more? Enter quit to exit\")\n",
        "  if choice == \"quit\":\n",
        "    break "
      ],
      "execution_count": null,
      "outputs": []
    },
    {
      "cell_type": "markdown",
      "metadata": {
        "id": "JJvffPI1WwFu"
      },
      "source": [
        "# Session5\n",
        "\n",
        "Explore for and while loop\n",
        "\n",
        "use loops to sum up the data"
      ]
    },
    {
      "cell_type": "markdown",
      "metadata": {
        "id": "J1FfrJ0YZvCJ"
      },
      "source": [
        "Queries\n",
        "1. HashCodes\n",
        "   Data is stored in RAM. Data gets stored in buckets\n",
        "   In case we have only 1 Bucket. And if we have 1st 100 numbers, we will store all numbers 1-100 in the same bucket.\n",
        "\n",
        "   In another case we can have 10 buckets. This means now we can save 1-100 numbers in 10 buckets.\n",
        "   Benefit: To read the number it will take less time\n",
        "\n",
        "   Hashsing -> Algo to get the bucke# in which we will store the number\n",
        "\n",
        "   Consider the \n",
        "   number = 20\n",
        "   bucketSize = 10\n",
        "   hashCode = number % bucketSize -> 0\n",
        "\n",
        "   number = 17\n",
        "   bucketSize = 10\n",
        "   hashCode = number % bucketSize -> 7"
      ]
    },
    {
      "cell_type": "code",
      "metadata": {
        "id": "rpK0DjAbW7lL"
      },
      "source": [
        "for number in range(1, 11):\n",
        "  print(\"number is:\", number)\n",
        "  print(\"hello\")\n",
        "\n",
        "print(\"Thank You\")\n",
        "\n",
        "\n",
        "for number in range(2, 101, 2):\n",
        "  print(\"number with step of 2 is:\", number)\n",
        "\n",
        "# Nested Loop: Loop in a Loop\n",
        "for i in range(1, 6): # 1 2 3 4 5\n",
        "  print(\"For i:\", i)\n",
        "  for j in range(1, 4): # 1 2 3\n",
        "    print(\"j is:\", j)\n",
        "\n",
        "# Complete this program -> list the 100 prime numbers between 1 to 100\n",
        "# hint -> use nested for loop\n",
        "# for number in range(1, 101):\n",
        "#   print(\"number:\", number)\n",
        "\n",
        "  "
      ],
      "execution_count": null,
      "outputs": []
    },
    {
      "cell_type": "code",
      "metadata": {
        "id": "rS5mE2RV5hHy"
      },
      "source": [
        ""
      ],
      "execution_count": null,
      "outputs": []
    },
    {
      "cell_type": "code",
      "metadata": {
        "id": "05p6CTI05iDq"
      },
      "source": [
        ""
      ],
      "execution_count": null,
      "outputs": []
    },
    {
      "cell_type": "code",
      "metadata": {
        "colab": {
          "base_uri": "https://localhost:8080/"
        },
        "id": "r49x83W0gix8",
        "outputId": "0f77538d-d601-4759-c132-6f47c9642302"
      },
      "source": [
        "for i in range(1, 6):\n",
        "  for j in range(1, i+1):\n",
        "    print(j, end=\" \")\n",
        "  \n",
        "  print()"
      ],
      "execution_count": null,
      "outputs": [
        {
          "name": "stdout",
          "output_type": "stream",
          "text": [
            "1 \n",
            "1 2 \n",
            "1 2 3 \n",
            "1 2 3 4 \n",
            "1 2 3 4 5 \n"
          ]
        }
      ]
    },
    {
      "cell_type": "code",
      "metadata": {
        "colab": {
          "base_uri": "https://localhost:8080/"
        },
        "id": "Kcjrg78Rizf4",
        "outputId": "367fbd9f-cd1e-454d-ea9b-386c882b76ba"
      },
      "source": [
        "for i in range(1, 6):\n",
        "  for j in range(1, i+1):\n",
        "    print(i, end=\" \")\n",
        "  \n",
        "  print()"
      ],
      "execution_count": null,
      "outputs": [
        {
          "name": "stdout",
          "output_type": "stream",
          "text": [
            "1 \n",
            "2 2 \n",
            "3 3 3 \n",
            "4 4 4 4 \n",
            "5 5 5 5 5 \n"
          ]
        }
      ]
    },
    {
      "cell_type": "code",
      "metadata": {
        "colab": {
          "base_uri": "https://localhost:8080/"
        },
        "id": "mRvegu-HkarY",
        "outputId": "61e7d324-092d-47c9-a0bb-e326289ae168"
      },
      "source": [
        "# BLACK - 1\n",
        "# WHITE - 0\n",
        "\n",
        "# 4X4\n",
        "# 1 0 1 0\n",
        "# 0 1 0 1\n",
        "# 1 0 1 0\n",
        "# 0 1 0 1\n",
        "\n",
        "# hint: if/else\n",
        "for i in range(1, 9): \n",
        "  for j in range(1, 9):\n",
        "    print(j%2, end=\" \")\n",
        "  print()  "
      ],
      "execution_count": null,
      "outputs": [
        {
          "name": "stdout",
          "output_type": "stream",
          "text": [
            "1 0 1 0 1 0 1 0 \n",
            "1 0 1 0 1 0 1 0 \n",
            "1 0 1 0 1 0 1 0 \n",
            "1 0 1 0 1 0 1 0 \n",
            "1 0 1 0 1 0 1 0 \n",
            "1 0 1 0 1 0 1 0 \n",
            "1 0 1 0 1 0 1 0 \n",
            "1 0 1 0 1 0 1 0 \n"
          ]
        }
      ]
    },
    {
      "cell_type": "markdown",
      "metadata": {
        "id": "GFz5Ont05ojb"
      },
      "source": [
        "# Session6\n",
        "\n",
        "Loops Again"
      ]
    },
    {
      "cell_type": "code",
      "metadata": {
        "colab": {
          "base_uri": "https://localhost:8080/"
        },
        "id": "xJScyZBz5j5k",
        "outputId": "79b2327b-605d-4437-bece-f26015c73273"
      },
      "source": [
        "num=5\n",
        "i=1\n",
        "\n",
        "while i <=10:\n",
        "  print(num, i, \"'a are\", num*i)\n",
        "  i += 1 # i = i + 1\n"
      ],
      "execution_count": null,
      "outputs": [
        {
          "name": "stdout",
          "output_type": "stream",
          "text": [
            "5 1 'a are 5\n",
            "5 2 'a are 10\n",
            "5 3 'a are 15\n",
            "5 4 'a are 20\n",
            "5 5 'a are 25\n",
            "5 6 'a are 30\n",
            "5 7 'a are 35\n",
            "5 8 'a are 40\n",
            "5 9 'a are 45\n",
            "5 10 'a are 50\n"
          ]
        }
      ]
    },
    {
      "cell_type": "code",
      "metadata": {
        "colab": {
          "base_uri": "https://localhost:8080/"
        },
        "id": "jMF1VGRN7YV6",
        "outputId": "d5a42a25-a045-48f9-cfb2-ccf521c3ab79"
      },
      "source": [
        "num=7\n",
        "for i in range(1, 11, 2):\n",
        "  print(num, i, \"'a are\", num*i)"
      ],
      "execution_count": null,
      "outputs": [
        {
          "name": "stdout",
          "output_type": "stream",
          "text": [
            "7 1 'a are 7\n",
            "7 3 'a are 21\n",
            "7 5 'a are 35\n",
            "7 7 'a are 49\n",
            "7 9 'a are 63\n"
          ]
        }
      ]
    },
    {
      "cell_type": "code",
      "metadata": {
        "id": "G9Ia1sRc78CB",
        "colab": {
          "base_uri": "https://localhost:8080/"
        },
        "outputId": "426766c3-7f15-434e-ef35-d2fb36f85045"
      },
      "source": [
        "# Nested Loops\n",
        "for i in range(1, 11):\n",
        "  print(\"TABLE:\", i)\n",
        "  for j in range(1, 11):\n",
        "    print(i, j, \"'s are\", (i*j))\n",
        "    # print(i*j, end=\" \")\n",
        "  print(\"~~~~~~~~~~~~~~~~~~\")  "
      ],
      "execution_count": null,
      "outputs": [
        {
          "output_type": "stream",
          "text": [
            "TABLE: 1\n",
            "1 1 's are 1\n",
            "1 2 's are 2\n",
            "1 3 's are 3\n",
            "1 4 's are 4\n",
            "1 5 's are 5\n",
            "1 6 's are 6\n",
            "1 7 's are 7\n",
            "1 8 's are 8\n",
            "1 9 's are 9\n",
            "1 10 's are 10\n",
            "~~~~~~~~~~~~~~~~~~\n",
            "TABLE: 2\n",
            "2 1 's are 2\n",
            "2 2 's are 4\n",
            "2 3 's are 6\n",
            "2 4 's are 8\n",
            "2 5 's are 10\n",
            "2 6 's are 12\n",
            "2 7 's are 14\n",
            "2 8 's are 16\n",
            "2 9 's are 18\n",
            "2 10 's are 20\n",
            "~~~~~~~~~~~~~~~~~~\n",
            "TABLE: 3\n",
            "3 1 's are 3\n",
            "3 2 's are 6\n",
            "3 3 's are 9\n",
            "3 4 's are 12\n",
            "3 5 's are 15\n",
            "3 6 's are 18\n",
            "3 7 's are 21\n",
            "3 8 's are 24\n",
            "3 9 's are 27\n",
            "3 10 's are 30\n",
            "~~~~~~~~~~~~~~~~~~\n",
            "TABLE: 4\n",
            "4 1 's are 4\n",
            "4 2 's are 8\n",
            "4 3 's are 12\n",
            "4 4 's are 16\n",
            "4 5 's are 20\n",
            "4 6 's are 24\n",
            "4 7 's are 28\n",
            "4 8 's are 32\n",
            "4 9 's are 36\n",
            "4 10 's are 40\n",
            "~~~~~~~~~~~~~~~~~~\n",
            "TABLE: 5\n",
            "5 1 's are 5\n",
            "5 2 's are 10\n",
            "5 3 's are 15\n",
            "5 4 's are 20\n",
            "5 5 's are 25\n",
            "5 6 's are 30\n",
            "5 7 's are 35\n",
            "5 8 's are 40\n",
            "5 9 's are 45\n",
            "5 10 's are 50\n",
            "~~~~~~~~~~~~~~~~~~\n",
            "TABLE: 6\n",
            "6 1 's are 6\n",
            "6 2 's are 12\n",
            "6 3 's are 18\n",
            "6 4 's are 24\n",
            "6 5 's are 30\n",
            "6 6 's are 36\n",
            "6 7 's are 42\n",
            "6 8 's are 48\n",
            "6 9 's are 54\n",
            "6 10 's are 60\n",
            "~~~~~~~~~~~~~~~~~~\n",
            "TABLE: 7\n",
            "7 1 's are 7\n",
            "7 2 's are 14\n",
            "7 3 's are 21\n",
            "7 4 's are 28\n",
            "7 5 's are 35\n",
            "7 6 's are 42\n",
            "7 7 's are 49\n",
            "7 8 's are 56\n",
            "7 9 's are 63\n",
            "7 10 's are 70\n",
            "~~~~~~~~~~~~~~~~~~\n",
            "TABLE: 8\n",
            "8 1 's are 8\n",
            "8 2 's are 16\n",
            "8 3 's are 24\n",
            "8 4 's are 32\n",
            "8 5 's are 40\n",
            "8 6 's are 48\n",
            "8 7 's are 56\n",
            "8 8 's are 64\n",
            "8 9 's are 72\n",
            "8 10 's are 80\n",
            "~~~~~~~~~~~~~~~~~~\n",
            "TABLE: 9\n",
            "9 1 's are 9\n",
            "9 2 's are 18\n",
            "9 3 's are 27\n",
            "9 4 's are 36\n",
            "9 5 's are 45\n",
            "9 6 's are 54\n",
            "9 7 's are 63\n",
            "9 8 's are 72\n",
            "9 9 's are 81\n",
            "9 10 's are 90\n",
            "~~~~~~~~~~~~~~~~~~\n",
            "TABLE: 10\n",
            "10 1 's are 10\n",
            "10 2 's are 20\n",
            "10 3 's are 30\n",
            "10 4 's are 40\n",
            "10 5 's are 50\n",
            "10 6 's are 60\n",
            "10 7 's are 70\n",
            "10 8 's are 80\n",
            "10 9 's are 90\n",
            "10 10 's are 100\n",
            "~~~~~~~~~~~~~~~~~~\n"
          ],
          "name": "stdout"
        }
      ]
    },
    {
      "cell_type": "code",
      "metadata": {
        "colab": {
          "base_uri": "https://localhost:8080/"
        },
        "id": "ZwySp-f39uf3",
        "outputId": "649c4a05-2abc-42ef-ad4a-34b5bee16af7"
      },
      "source": [
        "# CHESS BOARD\n",
        "for i in range(1, 9):\n",
        "  for j in range(1, 9):\n",
        "    if i%2 == 0:\n",
        "      print((j+1)%2, end=\" \")  \n",
        "    else:\n",
        "      print(j%2, end=\" \")\n",
        "      \n",
        "  print()  "
      ],
      "execution_count": null,
      "outputs": [
        {
          "name": "stdout",
          "output_type": "stream",
          "text": [
            "1 0 1 0 1 0 1 0 \n",
            "0 1 0 1 0 1 0 1 \n",
            "1 0 1 0 1 0 1 0 \n",
            "0 1 0 1 0 1 0 1 \n",
            "1 0 1 0 1 0 1 0 \n",
            "0 1 0 1 0 1 0 1 \n",
            "1 0 1 0 1 0 1 0 \n",
            "0 1 0 1 0 1 0 1 \n"
          ]
        }
      ]
    },
    {
      "cell_type": "code",
      "metadata": {
        "id": "4Rod6pRFEByz"
      },
      "source": [
        "# i = 10\n",
        "# print(i, type(i))\n",
        "\n",
        "# chess_board = [1, 0, 1, 0, 1, 0, 1, 0]\n",
        "# print(chess_board, type(chess_board))\n",
        "# print(len(chess_board))\n",
        "\n",
        "# row_1 -> is a list of integers\n",
        "#.       0                    7\n",
        "row_1 = [\"B\", \"W\", 1, 0, 1, 0, 1, 0]\n",
        "row_2 = [0, 1, 0, 1, 0, 1, 0, 1]\n",
        "row_3 = [1, 0, 1, 0, 1, 0, 1, 0]\n",
        "row_4 = [0, 1, 0, 1, 0, 1, 0, 1]\n",
        "row_5 = [1, 0, 1, 0, 1, 0, 1, 0]\n",
        "row_6 = [0, 1, 0, 1, 0, 1, 0, 1]\n",
        "row_7 = [1, 0, 1, 0, 1, 0, 1, 0]\n",
        "row_8 = [0, 1, 0, 1, 0, 1, 0, 1]\n",
        "\n",
        "# chess_board -> List of Lists(here every list is further list of ints) :)\n",
        "chess_board = [\n",
        "       row_1, # 0\n",
        "       row_2,\n",
        "       row_3,\n",
        "       row_4,\n",
        "       row_5,\n",
        "       row_6,\n",
        "       row_7,\n",
        "       row_8, # 7\n",
        "]\n",
        "\n",
        "# print(chess_board)\n",
        "\n",
        "# for - each loop\n",
        "for row in chess_board:\n",
        "  print(row)\n",
        "\n",
        "print(\"~~~~~~~~~~~\")\n",
        "\n",
        "for i in range(0, 8):\n",
        "  print(chess_board[i])\n",
        "\n",
        "\n",
        "# Assumne Queen is Q\n",
        "# Assumne King is K\n",
        "queen = \"Q\"  \n",
        "king = \"K\"\n",
        "\n",
        "chess_board[0][3] = king\n",
        "chess_board[0][4] = queen\n",
        "\n",
        "\n",
        "chess_board[7][3] = queen\n",
        "chess_board[7][4] = king\n",
        "\n",
        "print(\"~~~~~~~~~~~\")\n",
        "\n",
        "for i in range(0, 8):\n",
        "  print(chess_board[i])\n",
        "\n",
        "\n",
        "row = int(input(\"Enter Row for Queen: \"))  \n",
        "column = int(input(\"Enter Column for Queen: \"))  \n",
        "\n",
        "chess_board[row][column] = queen\n",
        "\n",
        "\n",
        "print(\"~~~~~~~~~~~\")\n",
        "\n",
        "for i in range(0, 8):\n",
        "  print(chess_board[i])\n",
        "\n"
      ],
      "execution_count": null,
      "outputs": []
    },
    {
      "cell_type": "markdown",
      "metadata": {
        "id": "diKEuXMFBX0n"
      },
      "source": [
        "# Session7"
      ]
    },
    {
      "cell_type": "code",
      "metadata": {
        "colab": {
          "base_uri": "https://localhost:8080/"
        },
        "id": "2G-67U8rBejY",
        "outputId": "23c16e0e-43e5-4cee-ae63-247e5735d0f6"
      },
      "source": [
        "quote_in_english = \"Work Hard Be Successfull\"\n",
        "quote_in_hindi = \"कड़ी मेहनत करें और सफल बनें\"\n",
        "quote_in_punjabi = \"ਸਖਤ ਮਿਹਨਤ ਕਰੋ ਅਤੇ ਸਫਲ ਬਣੋ\"\n",
        "\n",
        "print(quote_in_english)\n",
        "print(quote_in_hindi)\n",
        "\n",
        "print(quote_in_english[0])\n",
        "print(quote_in_hindi[0])\n",
        "\n",
        "print(ord(quote_in_english[0]))\n",
        "print(ord(quote_in_hindi[0]))\n",
        "\n",
        "print(hex(ord(quote_in_english[0])))\n",
        "print(hex(ord(quote_in_hindi[0])))\n"
      ],
      "execution_count": null,
      "outputs": [
        {
          "output_type": "stream",
          "text": [
            "Work Hard Be Successfull\n",
            "कड़ी मेहनत करें और सफल बनें\n",
            "W\n",
            "क\n",
            "87\n",
            "2325\n",
            "0x57\n",
            "0x915\n"
          ],
          "name": "stdout"
        }
      ]
    },
    {
      "cell_type": "code",
      "metadata": {
        "id": "r2fXdPbpCvrj"
      },
      "source": [
        "# Unicode Range for Languages\n",
        "# https://unicode-table.com/en/blocks/\n",
        "\n",
        "# To Covert Hexadecimal to Decimal\n",
        "# https://www.rapidtables.com/convert/number/hex-to-decimal.html\n",
        "\n",
        "languages = {\n",
        "    #           0    1\n",
        "    \"hindi\": [2304, 2431],\n",
        "    \"punjabi\": [2560, 2687],\n",
        "}\n",
        "\n",
        "# print(languages[\"hindi\"])\n",
        "# print(languages[\"punjabi\"])\n",
        "# print(languages[\"punjabi\"][0])\n",
        "# print(languages[\"punjabi\"][1])\n",
        "\n",
        "# Iteration\n",
        "for language in languages:\n",
        "  print(language)\n",
        "  print(languages[language])\n",
        "  print(languages[language][0])\n",
        "  print(languages[language][1])\n"
      ],
      "execution_count": null,
      "outputs": []
    },
    {
      "cell_type": "code",
      "metadata": {
        "colab": {
          "base_uri": "https://localhost:8080/"
        },
        "id": "wRbaRF9sFs-q",
        "outputId": "feeba3fd-2aba-4557-a5f1-2b0ca926a3ee"
      },
      "source": [
        "quote = input(\"Enter Quote: \")\n",
        "\n",
        "languages = {\n",
        "    #           0    1\n",
        "    \"hindi\": [2304, 2431],\n",
        "    \"punjabi\": [2560, 2687],\n",
        "}\n",
        "\n",
        "for language in languages:\n",
        "  if ord(quote[0]) >= languages[language][0] and ord(quote[0]) <= languages[language][1]:\n",
        "    print(\"Language is:\", language)\n",
        "    break\n"
      ],
      "execution_count": null,
      "outputs": [
        {
          "name": "stdout",
          "output_type": "stream",
          "text": [
            "Enter Quote: कड़ी मेहनत करें और सफल बनें\n",
            "Language is: hindi\n"
          ]
        }
      ]
    },
    {
      "cell_type": "code",
      "metadata": {
        "id": "aeCST7W1HdT-",
        "colab": {
          "base_uri": "https://localhost:8080/"
        },
        "outputId": "b2901ebc-10b3-4716-e99f-cf6c815742d4"
      },
      "source": [
        "languages = {\n",
        "    #           0    1\n",
        "    \"hindi\": [2304, 2431],\n",
        "    \"punjabi\": [2560, 2687],\n",
        "}\n",
        "\n",
        "file_name = input(\"Enter File Name: \")\n",
        "\n",
        "with open(file_name, \"r\") as file:\n",
        "  file_contents = file.read().strip()\n",
        "\n",
        "  print(file_contents[2], ord(file_contents[2]))\n",
        "\n",
        "  for language in languages:\n",
        "    if ord(file_contents[0]) >= languages[language][0] and ord(file_contents[0]) <= languages[language][1]:\n",
        "      print(\"Language in File is:\", language)\n",
        "      break\n"
      ],
      "execution_count": null,
      "outputs": [
        {
          "output_type": "stream",
          "text": [
            "Enter File Name: data.txt\n",
            "ਤ 2596\n",
            "Language in File is: punjabi\n"
          ],
          "name": "stdout"
        }
      ]
    },
    {
      "cell_type": "code",
      "metadata": {
        "id": "LkIbPPCEKOtB",
        "colab": {
          "base_uri": "https://localhost:8080/"
        },
        "outputId": "e6d99961-6c8e-4cc3-82e2-f933d1f4c237"
      },
      "source": [
        "rupee = \"\\u20b9\"\n",
        "print(rupee)\n",
        "print()"
      ],
      "execution_count": null,
      "outputs": [
        {
          "output_type": "stream",
          "text": [
            "₹\n",
            "\n"
          ],
          "name": "stdout"
        }
      ]
    },
    {
      "cell_type": "markdown",
      "metadata": {
        "id": "tTpHZPeNa10y"
      },
      "source": [
        "# Session8\n",
        "\n",
        "Assignment 1: Read from File the numbers. create list and sum all of them\n",
        "\n",
        "Assignment 2: Find maximum and minimum in the file"
      ]
    },
    {
      "cell_type": "code",
      "metadata": {
        "colab": {
          "base_uri": "https://localhost:8080/"
        },
        "id": "f2vSp9Lca55L",
        "outputId": "6845047e-05a9-4197-eb64-2c973ed80ca3"
      },
      "source": [
        "with open(\"data.txt\") as file:\n",
        "  lines = file.readlines()\n",
        "  # print(lines)\n",
        "  # print(type(lines))\n",
        "\n",
        "  # print(int(lines[0]), type(int(lines[0])))\n",
        "\n",
        "  result = 0\n",
        "  max = int(lines[0])\n",
        "  min = int(lines[0])\n",
        "\n",
        "  for i in range(0, 10):\n",
        "    # print(int(lines[i]))\n",
        "    result = result + int(lines[i])\n",
        "\n",
        "    if int(lines[i]) > max:\n",
        "      max = int(lines[i])\n",
        "\n",
        "  print(\"result is:\", result)  \n",
        "  print(\"max is:\", max)      "
      ],
      "execution_count": null,
      "outputs": [
        {
          "output_type": "stream",
          "text": [
            "result is: 1425\n",
            "max is: 1000\n"
          ],
          "name": "stdout"
        }
      ]
    },
    {
      "cell_type": "markdown",
      "metadata": {
        "id": "2tTEiSK-cxY8"
      },
      "source": [
        "# Session9\n",
        "\n",
        "Customer Management Software"
      ]
    },
    {
      "cell_type": "code",
      "metadata": {
        "colab": {
          "base_uri": "https://localhost:8080/"
        },
        "id": "055xytF5c2OX",
        "outputId": "3bcd2f0d-f94c-4451-f2d2-43b498d8b6e6"
      },
      "source": [
        "import datetime\n",
        "\n",
        "\n",
        "while True:\n",
        "  name = input(\"Enter Customer Name: \")\n",
        "  phone = input(\"Enter Customer Phone: \")\n",
        "  email = input(\"Enter Customer Email: \")\n",
        "  today = datetime.datetime.today()\n",
        "\n",
        "  customer_to_save = \"{},{},{},{}\\n\".format(name, phone, email, today)\n",
        "  print(\"customer_to_save:\", customer_to_save)\n",
        "\n",
        "  with open(\"customers.csv\", \"a\") as file:\n",
        "    file.write(customer_to_save)\n",
        "    \n",
        "  choice = input(\"Enter quit to break\")\n",
        "  if choice == \"quit\":\n",
        "    break\n",
        "\n",
        "\n"
      ],
      "execution_count": null,
      "outputs": [
        {
          "output_type": "stream",
          "text": [
            "Enter Customer Name: John\n",
            "Enter Customer Phone: 9876512345\n",
            "Enter Customer Email: john@example.com\n",
            "customer_to_save: John,9876512345,john@example.com,2021-08-27 11:59:20.529860\n",
            "\n",
            "Enter quit to breakno\n",
            "Enter Customer Name: fionna\n",
            "Enter Customer Phone: 9876509090\n",
            "Enter Customer Email: fionna@example.com\n",
            "customer_to_save: fionna,9876509090,fionna@example.com,2021-08-27 11:59:34.968642\n",
            "\n",
            "Enter quit to breakno\n",
            "Enter Customer Name: Mike\n",
            "Enter Customer Phone: 9876534567\n",
            "Enter Customer Email: mike@example.com\n",
            "customer_to_save: Mike,9876534567,mike@example.com,2021-08-27 11:59:48.745765\n",
            "\n",
            "Enter quit to breakno\n",
            "Enter Customer Name: Jim\n",
            "Enter Customer Phone: 9090912121\n",
            "Enter Customer Email: jim@example.com\n",
            "customer_to_save: Jim,9090912121,jim@example.com,2021-08-27 12:00:20.026174\n",
            "\n",
            "Enter quit to breakquit\n"
          ],
          "name": "stdout"
        }
      ]
    },
    {
      "cell_type": "code",
      "metadata": {
        "id": "-dEfsQ1_fpkD",
        "colab": {
          "base_uri": "https://localhost:8080/"
        },
        "outputId": "950c99f8-c6d7-43a7-fc4b-db8113ffeba4"
      },
      "source": [
        "# Dictionary\n",
        "menu = {\n",
        "    \"dal\": 200,\n",
        "    \"roti\": 20,\n",
        "    \"paneer\": 300,\n",
        "    \"burger\": 100,\n",
        "    \"noodles\": 150,\n",
        "    \"pizza\": 300\n",
        "}\n",
        "\n",
        "# Empty List\n",
        "dishes = []\n",
        "quantities = []\n",
        "cart = []\n",
        "\n",
        "# empty dictionary\n",
        "order = {}\n",
        "\n",
        "customer_phone = input(\"Enter Customer Phone: \")\n",
        "print(\"Placing Order for Customer\", customer_phone)\n",
        "\n",
        "while True:\n",
        "  dish = input(\"Enter dish: \")\n",
        "  quantity = float(input(\"Enter dish quantity: \"))\n",
        "  price = menu[dish] * quantity\n",
        "\n",
        "  order[dish] = {\n",
        "      \"price\": price,\n",
        "      \"quantity\": quantity,\n",
        "      \"price_per_quantity\": menu[dish]\n",
        "  }\n",
        "  \n",
        "  dishes.append(dish)\n",
        "  cart.append(price)\n",
        "  quantities.append(quantity)\n",
        "\n",
        "  choice = input(\"Enter quit to break, yes to continue\")\n",
        "  if choice == \"quit\":\n",
        "    break\n",
        "\n",
        "print(\"Cart is:\", cart)\n",
        "print(\"Dishes are:\", dishes)\n",
        "print(\"Quantities are:\", quantities)\n",
        "print(\"TOTAL is: \\u20b9\", sum(cart))\n",
        "\n",
        "print(\"Order is:\", order)\n"
      ],
      "execution_count": null,
      "outputs": [
        {
          "output_type": "stream",
          "text": [
            "Enter Customer Phone: 9090912121\n",
            "Placing Order for Customer 9090912121\n",
            "Enter dish: dal\n",
            "Enter dish quantity: 1.5\n",
            "Enter quit to break, yes to continueyes\n",
            "Enter dish: paneer\n",
            "Enter dish quantity: 2\n",
            "Enter quit to break, yes to continueyes\n",
            "Enter dish: roti\n",
            "Enter dish quantity: 8\n",
            "Enter quit to break, yes to continuequit\n",
            "Cart is: [300.0, 600.0, 160.0]\n",
            "Dishes are: ['dal', 'paneer', 'roti']\n",
            "Quantities are: [1.5, 2.0, 8.0]\n",
            "TOTAL is: ₹ 1060.0\n",
            "Order is: {'dal': {'price': 300.0, 'quantity': 1.5, 'price_per_quantity': 200}, 'paneer': {'price': 600.0, 'quantity': 2.0, 'price_per_quantity': 300}, 'roti': {'price': 160.0, 'quantity': 8.0, 'price_per_quantity': 20}}\n"
          ],
          "name": "stdout"
        }
      ]
    },
    {
      "cell_type": "code",
      "metadata": {
        "colab": {
          "base_uri": "https://localhost:8080/"
        },
        "id": "Qrt48Mtw7OBz",
        "outputId": "7b991a0f-44cf-497f-ce51-a46067e588f6"
      },
      "source": [
        "import datetime\n",
        "\n",
        "with open(\"orders.csv\", \"a\") as file:\n",
        "  file.write(\"{},{},{}\\n\".format(customer_phone,sum(cart),datetime.datetime.today()))\n",
        "  print(\"ORDER SAVED\")"
      ],
      "execution_count": null,
      "outputs": [
        {
          "output_type": "stream",
          "text": [
            "ORDER SAVED\n"
          ],
          "name": "stdout"
        }
      ]
    },
    {
      "cell_type": "code",
      "metadata": {
        "id": "52pnnobd70xO"
      },
      "source": [
        "# with open(\"{}-order.csv\".format(customer_phone), \"w\") as file:\n",
        "#   print(\"DISH,QUANTITY,TOTAL\\n\")\n",
        "\n",
        "with open(\"{}-order.csv\".format(customer_phone), \"a\") as file:\n",
        "  \n",
        "  for dish in order:\n",
        "    file.write(\"{},{},{}\\n\".format(dish, order[dish]['quantity'], order[dish]['price']))  \n"
      ],
      "execution_count": null,
      "outputs": []
    },
    {
      "cell_type": "markdown",
      "metadata": {
        "id": "Chou-zJV-bpq"
      },
      "source": [
        "**Assignment**\n",
        "\n",
        "When placing the order, we are asking cutomer's phone number.\n",
        "\n",
        "If the phone is in the customers.csv file, fetch name and email and write customer phone, name and email in the file orders.csv alongwith order information\n",
        "\n",
        "If the phone is not in the customers.csv file, ask name and email, save in customers.csv file and finally place the order with customer details and order details."
      ]
    }
  ]
}