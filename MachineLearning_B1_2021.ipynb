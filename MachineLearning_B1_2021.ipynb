{
  "nbformat": 4,
  "nbformat_minor": 0,
  "metadata": {
    "colab": {
      "name": "MachineLearning B1 2021.ipynb",
      "provenance": [],
      "collapsed_sections": [],
      "authorship_tag": "ABX9TyMCQ36HX282CUr1KTIAVqk3",
      "include_colab_link": true
    },
    "kernelspec": {
      "name": "python3",
      "display_name": "Python 3"
    },
    "language_info": {
      "name": "python"
    }
  },
  "cells": [
    {
      "cell_type": "markdown",
      "metadata": {
        "id": "view-in-github",
        "colab_type": "text"
      },
      "source": [
        "<a href=\"https://colab.research.google.com/github/ishantk/GW2021PY2/blob/master/MachineLearning_B1_2021.ipynb\" target=\"_parent\"><img src=\"https://colab.research.google.com/assets/colab-badge.svg\" alt=\"Open In Colab\"/></a>"
      ]
    },
    {
      "cell_type": "markdown",
      "metadata": {
        "id": "dM0W_yYxzzGc"
      },
      "source": [
        "Machine Learning\n",
        "--\n",
        "\n",
        "Let Machine learn from Data to give results.\n",
        "\n",
        "As of now we have created an algo to solve a problem\n",
        "majorly we have created some functions, which will take inputs and will give us the output\n",
        "\n",
        "Create an Algo based on some data\n",
        "10 -> 90\n",
        "8  -> 80\n",
        "12 -> 93\n",
        "7  -> 82\n",
        "5  -> 60\n",
        "\n",
        "9  -> ?\n",
        "\n",
        "\n",
        "1  -> 15000\n",
        "2  -> 18000\n",
        "3  -> 22000\n",
        "4  -> 25000\n",
        "5  -> 30000\n",
        "\n",
        "\n",
        "12 -> ?\n",
        "\n",
        "\n",
        "ML is training the algo on data, and later providing predictions on unseen data!\n",
        "\n",
        "\n",
        "ML Model is an Algo which is processing the data.\n",
        "\n",
        "Machine Learning\n",
        "--\n",
        "* Supervised Machine Learning.  -> Here we do provide data\n",
        "  * Regression\n",
        "  * Classification\n",
        "* UnSupervised Machine Learning -> Here we do not provide data\n",
        "  * Clustering\n",
        "\n",
        "\n"
      ]
    },
    {
      "cell_type": "markdown",
      "metadata": {
        "id": "Vn20N4B37Vsd"
      },
      "source": [
        "Linear Regression\n",
        "--\n",
        "\n",
        "Regression is predicting the unseen data\n",
        "\n",
        "X = [1, 2, 3, 4, 5]\n",
        "\n",
        "Y = [2, 4, 5, 4, 5]\n"
      ]
    },
    {
      "cell_type": "code",
      "metadata": {
        "colab": {
          "base_uri": "https://localhost:8080/",
          "height": 265
        },
        "id": "X96YwQal7Upw",
        "outputId": "6fa564d4-7851-412d-a24e-b77122eb0ff8"
      },
      "source": [
        "import matplotlib.pyplot as plt\n",
        "\n",
        "X = [1, 2, 3, 4, 5]\n",
        "Y = [2, 4, 5, 4, 5]\n",
        "\n",
        "plt.plot(X, Y)\n",
        "plt.show()"
      ],
      "execution_count": 1,
      "outputs": [
        {
          "output_type": "display_data",
          "data": {
            "image/png": "[encoded data removed]",
            "text/plain": [
              "<Figure size 432x288 with 1 Axes>"
            ]
          },
          "metadata": {
            "needs_background": "light"
          }
        }
      ]
    },
    {
      "cell_type": "markdown",
      "metadata": {
        "id": "em6_PljX8Lwq"
      },
      "source": [
        "Mathematically, We have Equation of Line\n",
        "\n",
        "Y = b0 + b1*X\n",
        "\n",
        "b0 -> Interceptor\n",
        "\n",
        "b1 -> Slope of Line"
      ]
    },
    {
      "cell_type": "markdown",
      "metadata": {
        "id": "QmLZKH8_8s4C"
      },
      "source": [
        "STEP1\n",
        "--\n",
        "\n",
        "Mean of X (MX) <br> \n",
        "(1+2+3+4+5) / 5 -> 3 <br>\n",
        "Mean of Y (MY) -> 4 <br>\n",
        "\n",
        "Create Table<br>\n",
        "X   Y   X-MX   Y-MY   sq(X-MX)   (X-MX)(Y-MY)<br>\n",
        "1   2   -2     -2     4           4<br>\n",
        "2   4   -1      0     1           0<br>\n",
        "3   5    0      1     0           0<br>\n",
        "4   4    1      0     1           0<br>\n",
        "5   5    2      1     4           2<br>\n"
      ]
    },
    {
      "cell_type": "markdown",
      "metadata": {
        "id": "qydve1QU-VVC"
      },
      "source": [
        "STEP2\n",
        "--\n",
        "\n",
        "SUM of sq(X-MX) : 10 <br>\n",
        "SUM of (X-MX)(Y-MY): 6 <br>\n",
        "\n",
        "SLOPE OF LINE b1 is: [SUM of (X-MX)(Y-MY)] / [SUM of sq(X-MX)] <br>\n",
        "b1: 6/10<br>\n",
        "b1 is: 0.6 <br>\n",
        "\n",
        "Y = b0 + 0.6X <br>\n",
        "\n",
        "Evaluate b0, by substituting Mean X and Mean Y in the Equation<br>\n",
        "4 = b0 + 0.6*3<br>\n",
        "\n",
        "b0 = 4 - 1.8<br>\n",
        "b0 = 2.2<br>\n",
        "\n"
      ]
    },
    {
      "cell_type": "code",
      "metadata": {
        "colab": {
          "base_uri": "https://localhost:8080/"
        },
        "id": "KXKF8fPBADqK",
        "outputId": "191d8e03-7768-49a4-fbc0-cbc45f7f54fe"
      },
      "source": [
        "X = [1, 2, 3, 4, 5]\n",
        "Y = [2, 4, 5, 4, 5]\n",
        "\n",
        "mean_x = sum(X)/len(X)\n",
        "mean_y = sum(Y)/len(Y)\n",
        "\n",
        "print(\"mean_x:\", mean_x)\n",
        "print(\"mean_y:\", mean_y)"
      ],
      "execution_count": 2,
      "outputs": [
        {
          "output_type": "stream",
          "name": "stdout",
          "text": [
            "mean_x: 3.0\n",
            "mean_y: 4.0\n"
          ]
        }
      ]
    },
    {
      "cell_type": "code",
      "metadata": {
        "colab": {
          "base_uri": "https://localhost:8080/"
        },
        "id": "kBt9-oRYAY0N",
        "outputId": "863ae0d6-adcc-4c6a-a298-1b20a4edd348"
      },
      "source": [
        "table = {\n",
        "    \"X\": X,\n",
        "    \"Y\": Y,\n",
        "    \"X-MX\": [],\n",
        "    \"Y-MY\": [],\n",
        "    \"sq-X-MX\": [],\n",
        "    \"X-MX-Y-MY\": [],\n",
        "}\n",
        "\n",
        "for i in range(len(X)):\n",
        "  x_minus_mean_x = X[i] - mean_x\n",
        "  y_minus_mean_y = Y[i] - mean_y\n",
        "  x_minus_mean_x_square = x_minus_mean_x ** 2\n",
        "  x_mean_x_into_y_mean_y = x_minus_mean_x * y_minus_mean_y\n",
        "  table[\"X-MX\"].append(x_minus_mean_x)\n",
        "  table[\"Y-MY\"].append(y_minus_mean_y)\n",
        "  table[\"sq-X-MX\"].append(x_minus_mean_x_square)\n",
        "  table[\"X-MX-Y-MY\"].append(x_mean_x_into_y_mean_y)\n",
        "\n",
        "print(table)  \n"
      ],
      "execution_count": 5,
      "outputs": [
        {
          "output_type": "stream",
          "name": "stdout",
          "text": [
            "{'X': [1, 2, 3, 4, 5], 'Y': [2, 4, 5, 4, 5], 'X-MX': [-2.0, -1.0, 0.0, 1.0, 2.0], 'Y-MY': [-2.0, 0.0, 1.0, 0.0, 1.0], 'sq-X-MX': [4.0, 1.0, 0.0, 1.0, 4.0], 'X-MX-Y-MY': [4.0, -0.0, 0.0, 0.0, 2.0]}\n"
          ]
        }
      ]
    },
    {
      "cell_type": "code",
      "metadata": {
        "colab": {
          "base_uri": "https://localhost:8080/"
        },
        "id": "qgmE8Cm6Bws5",
        "outputId": "cdb9c655-5e28-4fe1-9f76-e069e42975a4"
      },
      "source": [
        "b1 = sum(table[\"X-MX-Y-MY\"])/sum(table[\"sq-X-MX\"])\n",
        "print(\"b1:\", b1)"
      ],
      "execution_count": 7,
      "outputs": [
        {
          "output_type": "stream",
          "name": "stdout",
          "text": [
            "b1: 0.6\n"
          ]
        }
      ]
    },
    {
      "cell_type": "code",
      "metadata": {
        "colab": {
          "base_uri": "https://localhost:8080/"
        },
        "id": "729QJGVeB_q_",
        "outputId": "9d0b42f7-2ecf-4456-aca6-666a58221d99"
      },
      "source": [
        "# Y = b0 + b1*X\n",
        "# b0 = Y - b1*X \n",
        "b0 = mean_y - b1*mean_x\n",
        "print(\"b0 is:\", b0)"
      ],
      "execution_count": 9,
      "outputs": [
        {
          "output_type": "stream",
          "name": "stdout",
          "text": [
            "b0 is: 2.2\n"
          ]
        }
      ]
    },
    {
      "cell_type": "code",
      "metadata": {
        "id": "x4G2r9ZCCaU-"
      },
      "source": [
        "def predict(x):\n",
        "  y = b0 + b1 * x\n",
        "  print(\"Y is:\", y)\n",
        "  return y"
      ],
      "execution_count": 19,
      "outputs": []
    },
    {
      "cell_type": "code",
      "metadata": {
        "colab": {
          "base_uri": "https://localhost:8080/"
        },
        "id": "q2ft-qRsCizH",
        "outputId": "b06a394a-341d-4cbb-c118-730c549ed8cd"
      },
      "source": [
        "predict(9)"
      ],
      "execution_count": 16,
      "outputs": [
        {
          "output_type": "stream",
          "name": "stdout",
          "text": [
            "Y is: 7.6\n"
          ]
        }
      ]
    },
    {
      "cell_type": "markdown",
      "metadata": {
        "id": "4_ntsjz-DK4t"
      },
      "source": [
        "Errors\n",
        "--\n",
        "  * Mean Squared Error"
      ]
    },
    {
      "cell_type": "code",
      "metadata": {
        "colab": {
          "base_uri": "https://localhost:8080/"
        },
        "id": "dUgrn9hCDgWC",
        "outputId": "e225c524-5d1d-4295-ce44-d31739f9d94c"
      },
      "source": [
        "# Predicted values of Y for the Original X Values\n",
        "Y_hat = []\n",
        "\n",
        "for i in range(len(X)):\n",
        "\n",
        "  y = predict(X[i])\n",
        "  print(Y[i], y)\n"
      ],
      "execution_count": 21,
      "outputs": [
        {
          "output_type": "stream",
          "name": "stdout",
          "text": [
            "Y is: 2.8000000000000003\n",
            "2 2.8000000000000003\n",
            "Y is: 3.4000000000000004\n",
            "4 3.4000000000000004\n",
            "Y is: 4.0\n",
            "5 4.0\n",
            "Y is: 4.6\n",
            "4 4.6\n",
            "Y is: 5.2\n",
            "5 5.2\n"
          ]
        }
      ]
    }
  ]
}